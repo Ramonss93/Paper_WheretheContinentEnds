{
 "cells": [
  {
   "cell_type": "markdown",
   "metadata": {},
   "source": [
    "## [CSI Process Workflow] Global Shelf [Generating the Depth-Class Digital Surface Models]\n",
    "<br>\n",
    "Notebook scope:\n",
    "\n",
    "- Create the GLOBAL Geomorphon-based shelf models for the shallow, intermediate, deep, and para shelf classes\n",
    "- Create the GLOBAL Bathymetry-based shelf models for the shallow, intermediate, deep, and para shelf classes\n",
    "- Create the GLOBAL Slope-based shelf models for the shallow, intermediate, deep, and para shelf classes\n",
    "- Create the ARCTIC and ANTARCTIC the Geomorphon, Bathymetry, and Slope shelf models for the shallow, intermediate, deep, and para shelf classes\n",
    "\n",
    "\n",
    "**NOTE: we assume here that the (non-classified) geomorphon-forms, bathymetry and slope DSMs already exist for the GLOBAL, ARCTIC, and ANTARCTIC regions!**"
   ]
  },
  {
   "cell_type": "markdown",
   "metadata": {},
   "source": [
    "Notebook details processes to generate depth class surface models for the global (including the poles) geomorphon shelf model. The model is defined using the geomorphon 'flat' form where 'flat' is defined as slopes that do not exceed 0.69°. Further, depths are constrained (based on exploratory clustering) to four depth windows: \n",
    "\n",
    "#### The Shelf Depth Classes:\n",
    "\n",
    "- (shallow)  0 meters to -166.8 meters \n",
    "- (intermediate) -168.3 meters to -420.2 meters \n",
    "- (deep) -422.9 meters to -742.9 meters \n",
    "- (para-shelf, shelf-like) -742.9 meters down to -1,211 meters\n",
    "\n",
    "##### Notes:\n",
    "- All data here is projected in the interrupted Goode Homolosine Projection (the IGH is an Equal Area projection)\n",
    "- flatness = 0° to 0.69°\n",
    "- search=5  (maximum window size-so that we don't lose too much of the small shelf bits)\n",
    "- distance=0\n",
    "- extract from the 1km resolution ETOPO1 topobathy DEM\n",
    "- Region Extents: xmin=-20015000, ymin=-8673000,xmax= 20015000, ymax=8673000\n",
    "- can use the ETOPO1_World_Shelf_Zone(k) layers, where k is the zone number from 1 thru 13, as masks for analysis\n",
    "\n",
    "##### The k=13 Zones:\n",
    "|1   | Eastern North America <br> \n",
    "|2\t | Western North America <br>\n",
    "|3\t | Eastern South America <br>\n",
    "|4\t | Western South America <br>\n",
    "|5\t | Europe <br>\n",
    "|6\t | Western Africa <br>\n",
    "|7\t | Indian/Oceana <br>\n",
    "|8\t | Eastern Asia <br>\n",
    "|9\t | Australia <br>\n",
    "|10\t | Arctic <br>\n",
    "|11\t | Antarctic <br>\n",
    "|12\t | Mediterranean <br> \n",
    "|13\t | New Zealand (not currently included in the analysis)"
   ]
  },
  {
   "cell_type": "markdown",
   "metadata": {},
   "source": [
    "#### Declare the class definition used to initialized the GRASS 7.1 instances needed for the processing to come (an instance allows calling GRASS libraries from outside of a GRASS session--cool eh?)"
   ]
  },
  {
   "cell_type": "code",
   "execution_count": 1,
   "metadata": {
    "collapsed": true
   },
   "outputs": [],
   "source": [
    "# This class definition is used to initialize an instance of GRASS 7.x in this domain space\n",
    "class GrassBASE:\n",
    "    def initGRASSEnv( self, database, loc, map ):\n",
    "        gisbase=os.environ[ 'GISBASE' ] = '/Applications/GRASS-7.1.app/Contents/MacOS'\n",
    "        gisdbase=database\n",
    "        location=loc\n",
    "        mapset=map\n",
    "        sys.path.append(os.path.join(os.environ['GISBASE'], \"etc\", \"python\"))\n",
    "        import grass.script as gscript\n",
    "        import grass.script.setup as gsetup\n",
    "        gsetup.init( gisbase, gisdbase, location, mapset )\n",
    "        print(gscript.gisenv())\n",
    "        print('GRASS Application base path:',gisbase)"
   ]
  },
  {
   "cell_type": "markdown",
   "metadata": {},
   "source": [
    "### WORKFLOW for creating the *GLOBAL* shelf depth-class DSMs (does not include the Arctic and Anarctic regions--see below for generating data for these polar regions)\n",
    "\n",
    "1.) [in GRASS] Extract global depth classes from the World bathymetry and slope data\n",
    "\n",
    "- ETOPO1_World_Shelf_bathy_1km\n",
    "- ETOPO1_World_Shelf_slope_1km"
   ]
  },
  {
   "cell_type": "markdown",
   "metadata": {},
   "source": [
    "#### 1.) Instantiate a new GRASS 7.1 session"
   ]
  },
  {
   "cell_type": "code",
   "execution_count": 2,
   "metadata": {
    "collapsed": false
   },
   "outputs": [
    {
     "name": "stdout",
     "output_type": "stream",
     "text": [
      "\n",
      "********************************************\n",
      "Setting up a GRASS 7.1 Environment\n",
      "{u'MAPSET': u'user', u'GISDBASE': u'/Users/paulp/Documents/csi/cshelves/data/GRASSData', u'LOCATION_NAME': u'csi_shelf_mapping_global'}\n",
      "('GRASS Application base path:', '/Applications/GRASS-7.1.app/Contents/MacOS')\n",
      "()\n",
      ":/Applications/GRASS-7.1.app/Contents/MacOS/lib\n"
     ]
    }
   ],
   "source": [
    "import os, sys\n",
    "\n",
    "# set the location and mapset for the GRASS instance to be created\n",
    "gisdbase = '/Users/paulp/Documents/csi/cshelves/data/GRASSData'    # location of GRASS database  \n",
    "location = 'csi_shelf_mapping_global'                              # name of location\n",
    "mapset = 'user'                                                    # name of mapset containing data\n",
    "\n",
    "\n",
    "# initiate a GRASS instance/environment\n",
    "\n",
    "print('')\n",
    "print('********************************************')\n",
    "print('Setting up a GRASS 7.1 Environment') \n",
    "g = GrassBASE()\n",
    "g.initGRASSEnv( gisdbase, location, mapset )\n",
    "#print(sys.path)\n",
    "print()\n",
    "print(os.environ[ 'DYLD_LIBRARY_PATH' ])"
   ]
  },
  {
   "cell_type": "markdown",
   "metadata": {},
   "source": [
    "### Generate the four shelf class raster models for the GLOBAL data: \n",
    "Note that the GLOBAL data do not include the polar Arctic and Anarctic regions! See further along in the notebook for coverage of these latter (chilly) zones..."
   ]
  },
  {
   "cell_type": "code",
   "execution_count": 3,
   "metadata": {
    "collapsed": true
   },
   "outputs": [],
   "source": [
    "import grass.script as gscript\n",
    "\n",
    "##### Generate raster models for the shallow shelf class (z:0 to -166.8 meters;  m:0 to 0.69°;  form=1):\n",
    "gscript.mapcalc( 'ETOPO1_World_Shelf_shallow_1km=if(ETOPO1_bathy_1km >= -166.8 && ETOPO1_Slope_1km <= 0.69 &&\\\n",
    "ETOPO1_geomorph_forms_1km==1, ETOPO1_geomorph_forms_1km,  null() )' )\n",
    "\n",
    "gscript.mapcalc( 'ETOPO1_World_Shelf_shallow_bathy_1km=if(ETOPO1_bathy_1km >= -166.8 && ETOPO1_Slope_1km <= 0.69 && \\\n",
    "ETOPO1_geomorph_forms_1km==1, ETOPO1_bathy_1km,  null() )' )\n",
    "\n",
    "gscript.mapcalc( 'ETOPO1_World_Shelf_shallow_slope_1km=if(ETOPO1_bathy_1km >= -166.8 && ETOPO1_Slope_1km <= 0.69 && \\\n",
    "ETOPO1_geomorph_forms_1km==1, ETOPO1_Slope_1km,  null() )' )\n",
    "\n",
    "\n",
    "##### Generate raster models for the intermediate shelf class (z:-168 to -420 meters;  m:0 to 0.69°;  form=1):\n",
    "gscript.mapcalc( 'ETOPO1_World_Shelf_intermed_1km=if(ETOPO1_bathy_1km >= -420.2 && ETOPO1_bathy_1km <= -168.3 && \\\n",
    "ETOPO1_Slope_1km <= 0.69 && ETOPO1_geomorph_forms_1km==1, ETOPO1_geomorph_forms_1km,  null() )' )\n",
    "\n",
    "gscript.mapcalc( 'ETOPO1_World_Shelf_intermed_bathy_1km=if(ETOPO1_bathy_1km >= -420.2 && ETOPO1_bathy_1km <= -168.3 &&\\\n",
    "ETOPO1_Slope_1km <= 0.69 && ETOPO1_geomorph_forms_1km==1, ETOPO1_bathy_1km,  null() )' )\n",
    "\n",
    "gscript.mapcalc( 'ETOPO1_World_Shelf_intermed_slope_1km=if(ETOPO1_bathy_1km >= -420.2 && ETOPO1_bathy_1km <= -168.3 &&\\\n",
    "ETOPO1_Slope_1km <= 0.69 && ETOPO1_geomorph_forms_1km==1, ETOPO1_Slope_1km,  null() )' )\n",
    "\n",
    "\n",
    "##### Generate raster models for the deep shelf class (z:-423 to -743 meters;  m:0 to 0.69°;  form=1):\n",
    "gscript.mapcalc( 'ETOPO1_World_Shelf_deep_1km=if(ETOPO1_bathy_1km >= -742.9 && ETOPO1_bathy_1km <= -422.9 && \\\n",
    "ETOPO1_Slope_1km <= 0.69 && ETOPO1_geomorph_forms_1km==1, ETOPO1_geomorph_forms_1km,  null() )' )\n",
    "\n",
    "gscript.mapcalc( 'ETOPO1_World_Shelf_deep_bathy_1km=if(ETOPO1_bathy_1km >= -742.9 && ETOPO1_bathy_1km <= -422.9 && \\\n",
    "ETOPO1_Slope_1km <= 0.69 && ETOPO1_geomorph_forms_1km==1, ETOPO1_bathy_1km,  null() )' )\n",
    "\n",
    "gscript.mapcalc( 'ETOPO1_World_Shelf_deep_slope_1km=if(ETOPO1_bathy_1km >= -742.9 && ETOPO1_bathy_1km <= -422.9 && \\\n",
    "ETOPO1_Slope_1km <= 0.69 && ETOPO1_geomorph_forms_1km==1, ETOPO1_Slope_1km,  null() )' )\n",
    "\n",
    "\n",
    "##### Generate raster models for the para-shelf class (z:-743 to -1211 meters;  m:0 to 0.69°;  form=1):\n",
    "gscript.mapcalc( 'ETOPO1_World_Shelf_parashelf_1km=if(ETOPO1_bathy_1km >= -1211.0 && ETOPO1_bathy_1km <= -742.9 && \\\n",
    "ETOPO1_Slope_1km <= 0.69 && ETOPO1_geomorph_forms_1km==1, ETOPO1_geomorph_forms_1km,  null() )' )\n",
    "\n",
    "gscript.mapcalc( 'ETOPO1_World_Shelf_parashelf_bathy_1km=if(ETOPO1_bathy_1km >= -1211.0 && ETOPO1_bathy_1km <= -742.9 \\\n",
    "&& ETOPO1_Slope_1km <= 0.69 && ETOPO1_geomorph_forms_1km==1, ETOPO1_bathy_1km,  null() )' )\n",
    "\n",
    "gscript.mapcalc( 'ETOPO1_World_Shelf_parashelf_slope_1km=if(ETOPO1_bathy_1km >= -1211.0 && ETOPO1_bathy_1km <= -742.9 \\\n",
    "&& ETOPO1_Slope_1km <= 0.69 && ETOPO1_geomorph_forms_1km==1, ETOPO1_Slope_1km,  null() )' )"
   ]
  },
  {
   "cell_type": "markdown",
   "metadata": {},
   "source": [
    "### WORKFLOW for creating the *POLAR* shelf depth-class DSMs (includes the Arctic and Antarctic regions)\n",
    "\n",
    "[in GRASS] Extract Arctic and Antarctic depth classes from their respective bathymetry and slope data\n",
    "\n",
    "- ETOPO1_Arctic_Shelf_bathy_1km\n",
    "- ETOPO1_Arctic_Shelf_slope_1km\n",
    "- ETOPO1_Antarctic_Shelf_bathy_1km\n",
    "- ETOPO1_Antarctic_Shelf_slope_1km"
   ]
  },
  {
   "cell_type": "markdown",
   "metadata": {},
   "source": [
    "### The ARCTIC:"
   ]
  },
  {
   "cell_type": "markdown",
   "metadata": {},
   "source": [
    "##### Instantiate new GRASS instance for processing in the Arctic"
   ]
  },
  {
   "cell_type": "code",
   "execution_count": 12,
   "metadata": {
    "collapsed": false
   },
   "outputs": [
    {
     "name": "stdout",
     "output_type": "stream",
     "text": [
      "\n",
      "********************************************\n",
      "Setting up a GRASS 7.1 Environment\n",
      "{u'MAPSET': u'user', u'GISDBASE': u'/Users/paulp/Documents/csi/cshelves/data/GRASSData', u'LOCATION_NAME': u'CSM_Arctic_Region'}\n",
      "('GRASS Application base path:', '/Applications/GRASS-7.1.app/Contents/MacOS')\n",
      "()\n",
      ":/Applications/GRASS-7.1.app/Contents/MacOS/lib:/Applications/GRASS-7.1.app/Contents/MacOS/lib:/Applications/GRASS-7.1.app/Contents/MacOS/lib\n"
     ]
    },
    {
     "data": {
      "text/plain": [
       "0"
      ]
     },
     "execution_count": 12,
     "metadata": {},
     "output_type": "execute_result"
    }
   ],
   "source": [
    "# set the location and mapset for the Arctic GRASS instance to be created\n",
    "gisdbase = '/Users/paulp/Documents/csi/cshelves/data/GRASSData'    # location of GRASS database  \n",
    "location = 'CSM_Arctic_Region'                                     # name of location\n",
    "mapset = 'user'                                                    # name of mapset containing data\n",
    "\n",
    "\n",
    "# initiate a GRASS instance/environment\n",
    "\n",
    "print('')\n",
    "print('********************************************')\n",
    "print('Setting up a GRASS 7.1 Environment') \n",
    "g = GrassBASE()\n",
    "g.initGRASSEnv( gisdbase, location, mapset )\n",
    "#print(sys.path)\n",
    "print()\n",
    "print(os.environ[ 'DYLD_LIBRARY_PATH' ])\n",
    "\n",
    "\n",
    "# ## set the GRASS working region (for the Arctic), too:\n",
    "gscript.run_command('g.region', flags='p', region='ETOPO1_arctic_1km')"
   ]
  },
  {
   "cell_type": "markdown",
   "metadata": {},
   "source": [
    "### Generate the four shelf class raster models for the ARCTIC: "
   ]
  },
  {
   "cell_type": "code",
   "execution_count": 13,
   "metadata": {
    "collapsed": false
   },
   "outputs": [],
   "source": [
    "import grass.script as gscript\n",
    "\n",
    "# ## Generate raster models for the shallow shelf class (z:0 to -166.8 meters;  m:0 to 0.69°;  form=1):\n",
    "gscript.mapcalc( 'ETOPO1_Arctic_Shelf_shallow_1km=if(ETOPO1_Arctic_Shelf_bathy_1km >= -166.8 && \\\n",
    "ETOPO1_Arctic_Shelf_slope_1km <= 0.69 && ETOPO1_geomorph_arctic_forms_1km==1, \\\n",
    "ETOPO1_geomorph_arctic_forms_1km,  null() )', overwrite=True )\n",
    "\n",
    "gscript.mapcalc( 'ETOPO1_Arctic_Shelf_shallow_bathy_1km=if(ETOPO1_Arctic_Shelf_bathy_1km >= -166.8 && \\\n",
    "ETOPO1_Arctic_Shelf_slope_1km <= 0.69 && ETOPO1_geomorph_arctic_forms_1km==1, \\\n",
    "ETOPO1_Arctic_Shelf_bathy_1km,  null() )' )\n",
    "\n",
    "gscript.mapcalc( 'ETOPO1_Arctic_Shelf_shallow_slope_1km=if(ETOPO1_Arctic_Shelf_bathy_1km >= -166.8 && \\\n",
    "ETOPO1_Arctic_Shelf_slope_1km <= 0.69 && ETOPO1_geomorph_arctic_forms_1km==1, \\\n",
    "ETOPO1_Arctic_Shelf_slope_1km,  null() )' )\n",
    "\n",
    "\n",
    "# ## Generate raster models for the intermediate shelf class (z:-168 to -420 meters;  m:0 to 0.69°;  form=1):\n",
    "gscript.mapcalc( 'ETOPO1_Arctic_Shelf_intermed_1km=if(ETOPO1_Arctic_Shelf_bathy_1km >= -420 && \\\n",
    "ETOPO1_Arctic_Shelf_bathy_1km <= -168 && ETOPO1_Arctic_Shelf_slope_1km <= 0.69 && \\\n",
    "ETOPO1_geomorph_arctic_forms_1km==1, ETOPO1_geomorph_arctic_forms_1km,  null() )' )\n",
    "\n",
    "gscript.mapcalc( 'ETOPO1_Arctic_Shelf_intermed_bathy_1km=if(ETOPO1_Arctic_Shelf_bathy_1km >= -420 && \\\n",
    "ETOPO1_Arctic_Shelf_bathy_1km <= -168 && ETOPO1_Arctic_Shelf_slope_1km <= 0.69 && \\\n",
    "ETOPO1_geomorph_arctic_forms_1km==1, ETOPO1_Arctic_Shelf_bathy_1km,  null() )' )\n",
    "\n",
    "gscript.mapcalc( 'ETOPO1_Arctic_Shelf_intermed_slope_1km=if(ETOPO1_Arctic_Shelf_bathy_1km >= -420 && \\\n",
    "ETOPO1_Arctic_Shelf_bathy_1km <= -168 && ETOPO1_Arctic_Shelf_slope_1km <= 0.69 && \\\n",
    "ETOPO1_geomorph_arctic_forms_1km==1, ETOPO1_Arctic_Shelf_slope_1km,  null() )' )\n",
    "\n",
    "\n",
    "# ## Generate raster models for the deep shelf class (z:-423 to -743 meters;  m:0 to 0.69°;  form=1):\n",
    "gscript.mapcalc( 'ETOPO1_Arctic_Shelf_deep_1km=if(ETOPO1_Arctic_Shelf_bathy_1km >= -743 && \\\n",
    "ETOPO1_Arctic_Shelf_bathy_1km <= -423 && ETOPO1_Arctic_Shelf_slope_1km <= 0.69 && \\\n",
    "ETOPO1_geomorph_arctic_forms_1km==1, ETOPO1_geomorph_arctic_forms_1km,  null() )' )\n",
    "\n",
    "gscript.mapcalc( 'ETOPO1_Arctic_Shelf_deep_bathy_1km=if(ETOPO1_Arctic_Shelf_bathy_1km >= -743 && \\\n",
    "ETOPO1_Arctic_Shelf_bathy_1km <= -423 && ETOPO1_Arctic_Shelf_slope_1km <= 0.69 && \\\n",
    "ETOPO1_geomorph_arctic_forms_1km==1, ETOPO1_Arctic_Shelf_bathy_1km,  null() )' )\n",
    "\n",
    "gscript.mapcalc( 'ETOPO1_Arctic_Shelf_deep_slope_1km=if(ETOPO1_Arctic_Shelf_bathy_1km >= -743 && \\\n",
    "ETOPO1_Arctic_Shelf_bathy_1km <= -423 && ETOPO1_Arctic_Shelf_slope_1km <= 0.69 && \\\n",
    "ETOPO1_geomorph_arctic_forms_1km==1, ETOPO1_Arctic_Shelf_slope_1km,  null() )' )\n",
    "\n",
    "\n",
    "# ## Generate raster models for the para-shelf class (z:-743 to -1211 meters;  m:0 to 0.69°;  form=1):\n",
    "gscript.mapcalc( 'ETOPO1_Arctic_Shelf_parashelf_1km=if(ETOPO1_Arctic_Shelf_bathy_1km >= -1211 && \\\n",
    "ETOPO1_Arctic_Shelf_bathy_1km <= -743 && ETOPO1_Arctic_Shelf_slope_1km <= 0.69 && \\\n",
    "ETOPO1_geomorph_arctic_forms_1km==1, ETOPO1_geomorph_arctic_forms_1km,  null() )' ) \n",
    "\n",
    "gscript.mapcalc( 'ETOPO1_Arctic_Shelf_parashelf_bathy_1km=if(ETOPO1_Arctic_Shelf_bathy_1km >= -1211 && \\\n",
    "ETOPO1_Arctic_Shelf_bathy_1km <= -743 && ETOPO1_Arctic_Shelf_slope_1km <= 0.69 && \\\n",
    "ETOPO1_geomorph_arctic_forms_1km==1, ETOPO1_Arctic_Shelf_bathy_1km,  null() )' ) \n",
    "\n",
    "gscript.mapcalc( 'ETOPO1_Arctic_Shelf_parashelf_slope_1km=if(ETOPO1_Arctic_Shelf_bathy_1km >= -1211 && \\\n",
    "ETOPO1_Arctic_Shelf_bathy_1km <= -743 && ETOPO1_Arctic_Shelf_slope_1km <= 0.69 && \\\n",
    "ETOPO1_geomorph_arctic_forms_1km==1, ETOPO1_Arctic_Shelf_slope_1km,  null() )' ) "
   ]
  },
  {
   "cell_type": "markdown",
   "metadata": {},
   "source": [
    "### The ANTARCTIC:"
   ]
  },
  {
   "cell_type": "markdown",
   "metadata": {},
   "source": [
    "##### Instantiate new GRASS instance for processing in the ANTARCTIC:"
   ]
  },
  {
   "cell_type": "code",
   "execution_count": 14,
   "metadata": {
    "collapsed": false
   },
   "outputs": [
    {
     "name": "stdout",
     "output_type": "stream",
     "text": [
      "\n",
      "********************************************\n",
      "Setting up a GRASS 7.1 Environment\n",
      "{u'MAPSET': u'user', u'GISDBASE': u'/Users/paulp/Documents/csi/cshelves/data/GRASSData', u'LOCATION_NAME': u'CSM_Antarctic_Region'}\n",
      "('GRASS Application base path:', '/Applications/GRASS-7.1.app/Contents/MacOS')\n",
      "()\n",
      ":/Applications/GRASS-7.1.app/Contents/MacOS/lib:/Applications/GRASS-7.1.app/Contents/MacOS/lib:/Applications/GRASS-7.1.app/Contents/MacOS/lib:/Applications/GRASS-7.1.app/Contents/MacOS/lib\n"
     ]
    },
    {
     "data": {
      "text/plain": [
       "0"
      ]
     },
     "execution_count": 14,
     "metadata": {},
     "output_type": "execute_result"
    }
   ],
   "source": [
    "# set the location and mapset for the Antarctic GRASS instance to be created\n",
    "gisdbase = '/Users/paulp/Documents/csi/cshelves/data/GRASSData'    # location of GRASS database  \n",
    "location = 'CSM_Antarctic_Region'                                     # name of location\n",
    "mapset = 'user'                                                    # name of mapset containing data\n",
    "\n",
    "\n",
    "# initiate a GRASS instance/environment\n",
    "\n",
    "print('')\n",
    "print('********************************************')\n",
    "print('Setting up a GRASS 7.1 Environment') \n",
    "g = GrassBASE()\n",
    "g.initGRASSEnv( gisdbase, location, mapset )\n",
    "#print(sys.path)\n",
    "print()\n",
    "print(os.environ[ 'DYLD_LIBRARY_PATH' ])\n",
    "\n",
    "\n",
    "# ## set the GRASS working region (for the Arctic), too:\n",
    "gscript.run_command('g.region', flags='p', region='ETOPO1_antarctic_1km')"
   ]
  },
  {
   "cell_type": "markdown",
   "metadata": {},
   "source": [
    "### Generate the four shelf class raster models for the ANTARCTIC: "
   ]
  },
  {
   "cell_type": "code",
   "execution_count": 16,
   "metadata": {
    "collapsed": false
   },
   "outputs": [],
   "source": [
    "import grass.script as gscript\n",
    "\n",
    "# ## Generate raster models for the shallow shelf class (z:0 to -166.8 meters;  m:0 to 0.69°;  form=1):\n",
    "gscript.mapcalc( 'ETOPO1_Antarctic_Shelf_shallow_1km=if(ETOPO1_Antarctic_Shelf_bathy_1km >= -166.8 && \\\n",
    "ETOPO1_Antarctic_Shelf_slope_1km <= 0.69 && ETOPO1_Antarctic_Geomorph_Forms_1km==1, \\\n",
    "ETOPO1_Antarctic_Geomorph_Forms_1km,  null() )', overwrite=True )\n",
    "\n",
    "gscript.mapcalc( 'ETOPO1_Antarctic_Shelf_shallow_bathy_1km=if(ETOPO1_Antarctic_Shelf_bathy_1km >= -166.8 && \\\n",
    "ETOPO1_Antarctic_Shelf_slope_1km <= 0.69 && ETOPO1_Antarctic_Geomorph_Forms_1km==1, \\\n",
    "ETOPO1_Antarctic_Shelf_bathy_1km,  null() )', overwrite=True )\n",
    "\n",
    "gscript.mapcalc( 'ETOPO1_Antarctic_Shelf_shallow_slope_1km=if(ETOPO1_Antarctic_Shelf_bathy_1km >= -166.8 && \\\n",
    "ETOPO1_Antarctic_Shelf_slope_1km <= 0.69 && ETOPO1_Antarctic_Geomorph_Forms_1km==1, \\\n",
    "ETOPO1_Antarctic_Shelf_slope_1km,  null() )', overwrite=True )\n",
    "\n",
    "\n",
    "# ## Generate raster models for the intermediate shelf class (z:-168 to -420 meters;  m:0 to 0.69°;  form=1):\n",
    "gscript.mapcalc( 'ETOPO1_Antarctic_Shelf_intermed_1km=if(ETOPO1_Antarctic_Shelf_bathy_1km >= -420 && \\\n",
    "ETOPO1_Antarctic_Shelf_bathy_1km <= -168 && ETOPO1_Antarctic_Shelf_slope_1km <= 0.69 && \\\n",
    "ETOPO1_Antarctic_Geomorph_Forms_1km==1, ETOPO1_Antarctic_Geomorph_Forms_1km,  null() )', overwrite=True )\n",
    "\n",
    "gscript.mapcalc( 'ETOPO1_Antarctic_Shelf_intermed_bathy_1km=if(ETOPO1_Antarctic_Shelf_bathy_1km >= -420 && \\\n",
    "ETOPO1_Antarctic_Shelf_bathy_1km <= -168 && ETOPO1_Antarctic_Shelf_slope_1km <= 0.69 && \\\n",
    "ETOPO1_Antarctic_Geomorph_Forms_1km==1, ETOPO1_Antarctic_Shelf_bathy_1km,  null() )', overwrite=True)\n",
    "\n",
    "gscript.mapcalc( 'ETOPO1_Antarctic_Shelf_intermed_slope_1km=if(ETOPO1_Antarctic_Shelf_bathy_1km >= -420 && \\\n",
    "ETOPO1_Antarctic_Shelf_bathy_1km <= -168 && ETOPO1_Antarctic_Shelf_slope_1km <= 0.69 && \\\n",
    "ETOPO1_Antarctic_Geomorph_Forms_1km==1, ETOPO1_Antarctic_Shelf_slope_1km,  null() )', overwrite=True)\n",
    "\n",
    "\n",
    "# ## Generate raster models for the deep shelf class (z:-423 to -743 meters;  m:0 to 0.69°;  form=1):\n",
    "gscript.mapcalc( 'ETOPO1_Antarctic_Shelf_deep_1km=if(ETOPO1_Antarctic_Shelf_bathy_1km >= -743 && \\\n",
    "ETOPO1_Antarctic_Shelf_bathy_1km <= -423 && ETOPO1_Antarctic_Shelf_slope_1km <= 0.69 && \\\n",
    "ETOPO1_Antarctic_Geomorph_Forms_1km==1, ETOPO1_Antarctic_Geomorph_Forms_1km,  null() )', overwrite=True )\n",
    "\n",
    "gscript.mapcalc( 'ETOPO1_Antarctic_Shelf_deep_bathy_1km=if(ETOPO1_Antarctic_Shelf_bathy_1km >= -743 && \\\n",
    "ETOPO1_Antarctic_Shelf_bathy_1km <= -423 && ETOPO1_Antarctic_Shelf_slope_1km <= 0.69 && \\\n",
    "ETOPO1_Antarctic_Geomorph_Forms_1km==1, ETOPO1_Antarctic_Shelf_bathy_1km,  null() )', overwrite=True)\n",
    "\n",
    "gscript.mapcalc( 'ETOPO1_Antarctic_Shelf_deep_slope_1km=if(ETOPO1_Antarctic_Shelf_bathy_1km >= -743 && \\\n",
    "ETOPO1_Antarctic_Shelf_bathy_1km <= -423 && ETOPO1_Antarctic_Shelf_slope_1km <= 0.69 && \\\n",
    "ETOPO1_Antarctic_Geomorph_Forms_1km==1, ETOPO1_Antarctic_Shelf_slope_1km,  null() )', overwrite=True)\n",
    "\n",
    "\n",
    "# ## Generate raster models for the para-shelf class (z:-743 to -1211 meters;  m:0 to 0.69°;  form=1):\n",
    "gscript.mapcalc( 'ETOPO1_Antarctic_Shelf_parashelf_1km=if(ETOPO1_Antarctic_Shelf_bathy_1km >= -1211 && \\\n",
    "ETOPO1_Antarctic_Shelf_bathy_1km <= -743 && ETOPO1_Antarctic_Shelf_slope_1km <= 0.69 && \\\n",
    "ETOPO1_Antarctic_Geomorph_Forms_1km==1, ETOPO1_Antarctic_Geomorph_Forms_1km,  null() )', overwrite=True ) \n",
    "\n",
    "gscript.mapcalc( 'ETOPO1_Antarctic_Shelf_parashelf_bathy_1km=if(ETOPO1_Antarctic_Shelf_bathy_1km >= -1211 && \\\n",
    "ETOPO1_Antarctic_Shelf_bathy_1km <= -743 && ETOPO1_Antarctic_Shelf_slope_1km <= 0.69 && \\\n",
    "ETOPO1_Antarctic_Geomorph_Forms_1km==1, ETOPO1_Antarctic_Shelf_bathy_1km,  null() )', overwrite=True ) \n",
    "\n",
    "gscript.mapcalc( 'ETOPO1_Antarctic_Shelf_parashelf_slope_1km=if(ETOPO1_Antarctic_Shelf_bathy_1km >= -1211 && \\\n",
    "ETOPO1_Antarctic_Shelf_bathy_1km <= -743 && ETOPO1_Antarctic_Shelf_slope_1km <= 0.69 && \\\n",
    "ETOPO1_Antarctic_Geomorph_Forms_1km==1, ETOPO1_Antarctic_Shelf_slope_1km,  null() )', overwrite=True ) "
   ]
  },
  {
   "cell_type": "code",
   "execution_count": null,
   "metadata": {
    "collapsed": true
   },
   "outputs": [],
   "source": []
  }
 ],
 "metadata": {
  "kernelspec": {
   "display_name": "Python 2",
   "language": "python",
   "name": "python2"
  },
  "language_info": {
   "codemirror_mode": {
    "name": "ipython",
    "version": 2
   },
   "file_extension": ".py",
   "mimetype": "text/x-python",
   "name": "python",
   "nbconvert_exporter": "python",
   "pygments_lexer": "ipython2",
   "version": "2.7.11"
  }
 },
 "nbformat": 4,
 "nbformat_minor": 0
}
