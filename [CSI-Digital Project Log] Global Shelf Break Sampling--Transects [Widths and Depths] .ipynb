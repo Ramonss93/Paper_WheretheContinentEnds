{
 "cells": [
  {
   "cell_type": "markdown",
   "metadata": {},
   "source": [
    "## [CSI-Workflow] Global Shelf--Shelf-Width Transects \n",
    "<br>\n",
    "Notebook Scope: <br>\n",
    "This document describes the overall workflow associated with capturing shelf widths, locating the shelf-break along transects (the point where the transect intersects the shelf break), and generating a set of descriptive statistics and graphic analysis products to help to tailor and bolter our hypotheses.\n",
    "\n",
    "- Create the Width Transects from the Profiles\n",
    "- Create the shelf break intersection points\n",
    "- Create the shelf break intersection sample buffers (5km dia)\n",
    "- Sample the slope and depth shelf models using the sample buffers\n",
    "- Export the results to an ESRI Shapefile and a comma-separated values text file"
   ]
  },
  {
   "cell_type": "markdown",
   "metadata": {},
   "source": [
    "#### The Working Zones\n",
    "\n",
    "|1   | Eastern North America <br> \n",
    "|2\t | Western North America <br>\n",
    "|3\t | Eastern South America <br>\n",
    "|4\t | Western South America <br>\n",
    "|5\t | Europe <br>\n",
    "|6\t | Western Africa <br>\n",
    "|7\t | Indian/Oceana <br>\n",
    "|8\t | Eastern Asia <br>\n",
    "|9\t | Australia <br>\n",
    "|10\t | Arctic <br>\n",
    "|11\t | Antarctic <br>\n",
    "|12\t | Mediterranean <br> \n",
    "|13\t | New Zealand (not currently included in the analysis)<br>"
   ]
  },
  {
   "cell_type": "markdown",
   "metadata": {},
   "source": [
    "#### WORKFLOW for capturing the overall shelf width and various descriptive statistics at the shelf break via the Cross-Shelf Transect Method\n",
    "\n",
    "1.) [in QGIS] Intersect Profile Transects w/the Shelf \n",
    "\t\t- input Profile Transects\n",
    "\t\t- intersect Shelf Geomorphon Layer (vector)\n",
    "\t\t- output temp transects  (overwrite, as necessary and delete in the end)\n",
    "\t\t\n",
    "2.) [in QGIS] Digitize new Shelf Width Transects using the temp transects as snapping guides.\n",
    "\t\t- calc id field = rownumbers\n",
    "\t\t- add new field TotalWidth (int 10) and pop. with Geometry->$length\n",
    "\t\t- output: Shelf Width Transects\n",
    "\t\t\n",
    "\n",
    "3.) [in QGIS] Generate from the new Shelf Width Transects nodes for the start and end of each transect. Edit to delete all the landward points (nodes) leaving behind only those points that occur along the shelf break\n",
    "\t\t- output: Shelf_Break_Sample_Points\n",
    "\t\t\n",
    "4.) [in QGIS] Generate a 5 km buffer (buffer distance 2500 m) around each sample point\n",
    "\t\t- output Shelf Break Sample Areas\n",
    "\t\t\n",
    "        \n",
    "5.) [in GRASS] Import the Shelf Break Sample Areas vector layer in to GRASS and:\n",
    "\n",
    "\ta.) interrogate the shelf bathymetry and slopes using the shelf break sample areas and v.rast.stats:\n",
    "\n",
    "\n",
    "\tb.) export the updated (the attribute table will be updated with the above stats) Shelf Break Sample Areas vector layer out, overwriting the existing shape file as you go. \n",
    "\t\n",
    "\tc.) export the updated attribute table from the Shelf Break Sample Areas w/o geometry  as a comma-separated value file (*.csv):\n",
    "\n",
    "db.out.ogr --o input=Arctic_ShelfBreak_SampleAreas_Zone10 output=/Users/paulp/Documents/csi/cshelves/data/vector/shelves/ShelfBreakSamples/Arctic_ShelfBreak_SampleAreas_Zone10 format=CSV table=Arctic_ShelfBreak_SampleAreas_Zone10\n",
    "\n"
   ]
  },
  {
   "cell_type": "code",
   "execution_count": 1,
   "metadata": {
    "collapsed": true
   },
   "outputs": [],
   "source": [
    "import os, sys\n",
    "\n",
    "# set the location and mapset for the GRASS instance to be created\n",
    "gisdbase = '/Users/paulp/Documents/csi/cshelves/data/GRASSData'    # location of GRASS database  \n",
    "location = 'csi_shelf_mapping_global'                       # name of location\n",
    "mapset = 'user'                     # name of mapset containing data"
   ]
  },
  {
   "cell_type": "code",
   "execution_count": 2,
   "metadata": {
    "collapsed": false
   },
   "outputs": [],
   "source": [
    "# This class definition is used to initialize an instance of GRASS 7.x in this domain space\n",
    "class GrassBASE:\n",
    "    def initGRASSEnv( self, database, loc, map ):\n",
    "        gisbase=os.environ[ 'GISBASE' ] = '/Applications/GRASS-7.1.app/Contents/MacOS'\n",
    "        gisdbase=database\n",
    "        location=loc\n",
    "        mapset=map\n",
    "        sys.path.append(os.path.join(os.environ['GISBASE'], \"etc\", \"python\"))\n",
    "        import grass.script as gscript\n",
    "        import grass.script.setup as gsetup\n",
    "        gsetup.init( gisbase, gisdbase, location, mapset )\n",
    "        print(gscript.gisenv())\n",
    "        print('GRASS Application base path:',gisbase)"
   ]
  },
  {
   "cell_type": "code",
   "execution_count": 4,
   "metadata": {
    "collapsed": false
   },
   "outputs": [
    {
     "name": "stdout",
     "output_type": "stream",
     "text": [
      "\n",
      "********************************************\n",
      "Setting up a GRASS 7.1 Environment\n",
      "{u'MAPSET': u'user', u'GISDBASE': u'/Users/paulp/Documents/csi/cshelves/data/GRASSData', u'LOCATION_NAME': u'csi_shelf_mapping_global'}\n",
      "('GRASS Application base path:', '/Applications/GRASS-7.1.app/Contents/MacOS')\n",
      "()\n",
      ":/Applications/GRASS-7.1.app/Contents/MacOS/lib\n"
     ]
    }
   ],
   "source": [
    "# initiate a GRASS instance/environment\n",
    "\n",
    "print('')\n",
    "print('********************************************')\n",
    "print('Setting up a GRASS 7.1 Environment') \n",
    "g = GrassBASE()\n",
    "g.initGRASSEnv( gisdbase, location, mapset )\n",
    "#print(sys.path)\n",
    "print()\n",
    "print(os.environ[ 'DYLD_LIBRARY_PATH' ])"
   ]
  },
  {
   "cell_type": "markdown",
   "metadata": {},
   "source": [
    "#### Load the grass scripting module, and set the file paths, zones, and names, and finally, the working region (for all zones save for the Arctic and Antarctic)"
   ]
  },
  {
   "cell_type": "code",
   "execution_count": 5,
   "metadata": {
    "collapsed": false
   },
   "outputs": [
    {
     "data": {
      "text/plain": [
       "0"
      ]
     },
     "execution_count": 5,
     "metadata": {},
     "output_type": "execute_result"
    }
   ],
   "source": [
    "### set file paths and region\n",
    "\n",
    "import grass.script as gscript\n",
    "\n",
    "\n",
    "r='ETOPO1_World_1km'  # region\n",
    "\n",
    "f_src_path='/Users/paulp/Documents/csi/cshelves/data/vector/shelves/ShelfbyZone/Zone'\n",
    "f_out_path='/Users/paulp/Documents/csi/cshelves/data/vector/shelves/ShelfBreakSamples/'\n",
    "\n",
    "zone_list=['1','2','3','4','5','6','7','8','9','12']\n",
    "areas_list=['ECoastNAmer_Shelf_Break_Sample_Areas_Zone1','WCoastNAmer_Shelf_Break_Sample_Areas_Zone2', \\\n",
    "           'ECoastSAmer_Shelf_Break_Sample_Areas_Zone3','WCoastSAmer_Shelf_Break_Sample_Areas_Zone4',\n",
    "           'European_Shelf_Break_Sample_Areas_Zone5','WCoastAfrica_Shelf_Break_Sample_Areas_Zone6', \\\n",
    "           'IndianOceana_Shelf_Break_Sample_Areas_Zone7','ECoastAsia_Shelf_Break_Sample_Areas_Zone8',\\\n",
    "            'Australia_Shelf_Break_Sample_Areas_Zone9','Mediterranean_Shelf_Break_Sample_Areas_Zone12']\n",
    "\n",
    "###'Arctic_Shelf_Break_Sample_Areas_Zone10', 'Antarctic_Shelf_Break_Sample_Areas_Zone11',\n",
    "\n",
    "gscript.run_command('g.region', region=r)"
   ]
  },
  {
   "cell_type": "markdown",
   "metadata": {},
   "source": [
    "#### Import the sample area polygons for each zone into GRASS\n",
    "\n",
    "\n",
    "Notes:\n",
    "- if the file to be import is already present in GRASS the existing will be overwritten by the new"
   ]
  },
  {
   "cell_type": "code",
   "execution_count": 49,
   "metadata": {
    "collapsed": false
   },
   "outputs": [],
   "source": [
    "# ## import the shelf-break sampling areas (5km dia buffers) for each zone into GRASS\n",
    "import grass.script as gscript\n",
    "\n",
    "for zone, area in zip(zone_list, areas_list):\n",
    "    current_zone=f_src_path+zone+'/'+area\n",
    "    gscript.run_command('v.in.ogr', flags='o', overwrite=True, input=current_zone+'.shp', output=area)"
   ]
  },
  {
   "cell_type": "markdown",
   "metadata": {},
   "source": [
    "#### Capture samples from bathy and slope DSMs from within each sample areas (using v.rast.stats)"
   ]
  },
  {
   "cell_type": "code",
   "execution_count": 6,
   "metadata": {
    "collapsed": false
   },
   "outputs": [],
   "source": [
    "# ## Use v.rast..stats to sample depths and slopes in those sampling areas. \n",
    "\n",
    "import grass.script as gscript\n",
    "\n",
    "stats='average,stddev,median'\n",
    "\n",
    "gscript.run_command('g.region', flags='p', region='ETOPO1_World_1km')\n",
    "\n",
    "for area in (areas_list):\n",
    "\n",
    "    # ## depth samplng\n",
    "    gscript.run_command('v.rast.stats', flags='c', overwrite=True, map=area, raster='ETOPO1_World_Shelf_bathy_1km', \\\n",
    "                        method=stats, column_prefix='z')\n",
    "  \n",
    "    # ## slope sampling\n",
    "    gscript.run_command('v.rast.stats', flags='c', overwrite=True, map=area,  raster='ETOPO1_World_Shelf_Slope_1km', \\\n",
    "                        method=stats, column_prefix='m')"
   ]
  },
  {
   "cell_type": "markdown",
   "metadata": {
    "collapsed": true
   },
   "source": [
    "#### Export the feature attribute data contents for each zone sample areas layer from GRASS for outside processing into numeric and graphic analysis products (e.g., box plots, pie charts)"
   ]
  },
  {
   "cell_type": "code",
   "execution_count": 9,
   "metadata": {
    "collapsed": false
   },
   "outputs": [],
   "source": [
    "\n",
    "import grass.script as gscript\n",
    "\n",
    "for area in(areas_list):\n",
    "    gscript.run_command('db.out.ogr', overwrite=True, input=area, output=f_out_path+area, format='CSV' )\n"
   ]
  },
  {
   "cell_type": "markdown",
   "metadata": {},
   "source": [
    "#### Export the feature geometry and descriptive attribute contents for each zone sample areas layer from GRASS for outside analysis products."
   ]
  },
  {
   "cell_type": "code",
   "execution_count": 10,
   "metadata": {
    "collapsed": false
   },
   "outputs": [],
   "source": [
    "import grass.script as gscript\n",
    "\n",
    "for area in (areas_list):\n",
    "    gscript.run_command('v.out.ogr', overwrite=True, input=area, output=f_out_path+area, format='ESRI_Shapefile')"
   ]
  },
  {
   "cell_type": "markdown",
   "metadata": {},
   "source": [
    "### Now, let's do the poles..."
   ]
  },
  {
   "cell_type": "markdown",
   "metadata": {},
   "source": [
    "#### first, the Arctic:"
   ]
  },
  {
   "cell_type": "code",
   "execution_count": 21,
   "metadata": {
    "collapsed": false
   },
   "outputs": [
    {
     "name": "stdout",
     "output_type": "stream",
     "text": [
      "\n",
      "********************************************\n",
      "Setting up a GRASS 7.1 Environment\n",
      "{u'MAPSET': u'user', u'GISDBASE': u'/Users/paulp/Documents/csi/cshelves/data/GRASSData', u'LOCATION_NAME': u'CSM_Arctic_Region'}\n",
      "('GRASS Application base path:', '/Applications/GRASS-7.1.app/Contents/MacOS')\n",
      "()\n",
      ":/Applications/GRASS-7.1.app/Contents/MacOS/lib:/Applications/GRASS-7.1.app/Contents/MacOS/lib:/Applications/GRASS-7.1.app/Contents/MacOS/lib:/Applications/GRASS-7.1.app/Contents/MacOS/lib:/Applications/GRASS-7.1.app/Contents/MacOS/lib:/Applications/GRASS-7.1.app/Contents/MacOS/lib\n"
     ]
    }
   ],
   "source": [
    "# set the location and mapset for the GRASS instance (for the Arctic) to be created\n",
    "gisdbase = '/Users/paulp/Documents/csi/cshelves/data/GRASSData'    # location of GRASS database  \n",
    "location = 'CSM_Arctic_Region              '                       # name of location\n",
    "mapset = 'user'  \n",
    "\n",
    "# initiate a GRASS instance/environment\n",
    "\n",
    "print('')\n",
    "print('********************************************')\n",
    "print('Setting up a GRASS 7.1 Environment') \n",
    "g = GrassBASE()\n",
    "g.initGRASSEnv( gisdbase, location, mapset )\n",
    "#print(sys.path)\n",
    "print()\n",
    "print(os.environ[ 'DYLD_LIBRARY_PATH' ])"
   ]
  },
  {
   "cell_type": "code",
   "execution_count": 22,
   "metadata": {
    "collapsed": false
   },
   "outputs": [
    {
     "data": {
      "text/plain": [
       "0"
      ]
     },
     "execution_count": 22,
     "metadata": {},
     "output_type": "execute_result"
    }
   ],
   "source": [
    "### set file paths and region\n",
    "\n",
    "import grass.script as gscript\n",
    "\n",
    "stats='average,stddev,median'\n",
    "\n",
    "gscript.run_command('g.region', region='ETOPO1_Arctic_1km')  # set the region\n",
    "\n",
    "src_file='/Users/paulp/Documents/csi/cshelves/data/vector/shelves/ShelfbyZone/Zone10/Arctic_Shelf_Break_Sample_Areas_Zone10.shp'\n",
    "out_file='/Users/paulp/Documents/csi/cshelves/data/vector/shelves/ShelfBreakSamples/Arctic_Shelf_Break_Sample_Areas_Zone10'\n",
    "\n",
    "#gscript.run_command('v.in.ogr', flags='o', overwrite=True, input=src_file, output='Arctic_Shelf_Break_Sample_Areas_Zone10)\n",
    "\n",
    "# ## depth samplng\n",
    "gscript.run_command('v.rast.stats', flags='c', overwrite=True, map='Arctic_Shelf_Break_Sample_Areas_Zone10', \\\n",
    "                    raster='ETOPO1_Arctic_Shelf_bathy_1km', method=stats,column_prefix='z')\n",
    "  \n",
    "# ## slope sampling\n",
    "gscript.run_command('v.rast.stats', flags='c', overwrite=True, map='Arctic_Shelf_Break_Sample_Areas_Zone10', \\\n",
    "                    raster='ETOPO1_Arctic_Shelf_slope_1km', method=stats,column_prefix='m')\n",
    "\n",
    "# ## export feature attribute table as ASCII.csv\n",
    "gscript.run_command('db.out.ogr', overwrite=True, input='Arctic_Shelf_Break_Sample_Areas_Zone10', output=out_file, \\\n",
    "                    format='CSV' )\n"
   ]
  },
  {
   "cell_type": "code",
   "execution_count": 23,
   "metadata": {
    "collapsed": false
   },
   "outputs": [
    {
     "data": {
      "text/plain": [
       "0"
      ]
     },
     "execution_count": 23,
     "metadata": {},
     "output_type": "execute_result"
    }
   ],
   "source": [
    "# ## export geometry and feature attributes to ESRI Shapefile    \n",
    "gscript.run_command('v.out.ogr', overwrite=True, input='Arctic_Shelf_Break_Sample_Areas_Zone10', \\\n",
    "                    output='/Users/paulp/Documents/csi/cshelves/data/vector/shelves', format='ESRI_Shapefile')"
   ]
  },
  {
   "cell_type": "markdown",
   "metadata": {},
   "source": [
    "#### then, the Antarctic..."
   ]
  },
  {
   "cell_type": "code",
   "execution_count": 27,
   "metadata": {
    "collapsed": false
   },
   "outputs": [
    {
     "name": "stdout",
     "output_type": "stream",
     "text": [
      "\n",
      "********************************************\n",
      "Setting up a GRASS 7.1 Environment\n",
      "{u'MAPSET': u'user', u'GISDBASE': u'/Users/paulp/Documents/csi/cshelves/data/GRASSData', u'LOCATION_NAME': u'CSM_Antarctic_Region'}\n",
      "('GRASS Application base path:', '/Applications/GRASS-7.1.app/Contents/MacOS')\n",
      "()\n",
      ":/Applications/GRASS-7.1.app/Contents/MacOS/lib:/Applications/GRASS-7.1.app/Contents/MacOS/lib:/Applications/GRASS-7.1.app/Contents/MacOS/lib:/Applications/GRASS-7.1.app/Contents/MacOS/lib:/Applications/GRASS-7.1.app/Contents/MacOS/lib:/Applications/GRASS-7.1.app/Contents/MacOS/lib:/Applications/GRASS-7.1.app/Contents/MacOS/lib:/Applications/GRASS-7.1.app/Contents/MacOS/lib\n"
     ]
    }
   ],
   "source": [
    "# set the location and mapset for the GRASS instance (for the Arctic) to be created\n",
    "gisdbase = '/Users/paulp/Documents/csi/cshelves/data/GRASSData'    # location of GRASS database  \n",
    "location = 'CSM_Antarctic_Region              '                       # name of location\n",
    "mapset = 'user'  \n",
    "\n",
    "# initiate a GRASS instance/environment\n",
    "\n",
    "print('')\n",
    "print('********************************************')\n",
    "print('Setting up a GRASS 7.1 Environment') \n",
    "g = GrassBASE()\n",
    "g.initGRASSEnv( gisdbase, location, mapset )\n",
    "print()\n",
    "print(os.environ[ 'DYLD_LIBRARY_PATH' ])"
   ]
  },
  {
   "cell_type": "code",
   "execution_count": 28,
   "metadata": {
    "collapsed": false
   },
   "outputs": [
    {
     "data": {
      "text/plain": [
       "0"
      ]
     },
     "execution_count": 28,
     "metadata": {},
     "output_type": "execute_result"
    }
   ],
   "source": [
    "### set file paths and region\n",
    "\n",
    "import grass.script as gscript\n",
    "\n",
    "stats='average,stddev,median'\n",
    "\n",
    "gscript.run_command('g.region', region='ETOPO1_antarctic_1km')  # set the region\n",
    "\n",
    "src_file='/Users/paulp/Documents/csi/cshelves/data/vector/shelves/ShelfbyZone/Zone11/Antarctic_Shelf_Break_Sample_Areas_Zone11.shp'\n",
    "out_path='/Users/paulp/Documents/csi/cshelves/data/vector/shelves/ShelfBreakSamples/'\n",
    "\n",
    "gscript.run_command('v.in.ogr', flags='o', overwrite=True, input=src_file, output='Antarctic_Shelf_Break_Sample_Areas_Zone11')\n",
    "\n",
    "# ## depth samplng\n",
    "gscript.run_command('v.rast.stats', flags='c', overwrite=True, map='Antarctic_Shelf_Break_Sample_Areas_Zone11', \\\n",
    "                    raster='ETOPO1_Antarctic_Shelf_bathy_1km', method=stats,column_prefix='z')\n",
    "  \n",
    "# ## slope sampling\n",
    "gscript.run_command('v.rast.stats', flags='c', overwrite=True, map='Antarctic_Shelf_Break_Sample_Areas_Zone11', \\\n",
    "                    raster='ETOPO1_Antarctic_Shelf_slope_1km', method=stats, column_prefix='m')\n",
    "\n",
    "\n",
    "# ## export feature attribute table as ASCII.csv\n",
    "gscript.run_command('db.out.ogr', overwrite=True, input='Antarctic_Shelf_Break_Sample_Areas_Zone11', \\\n",
    "                    output=out_path+'Antarctic_Shelf_Break_Sample_Areas_Zone11', format='CSV' )\n"
   ]
  },
  {
   "cell_type": "code",
   "execution_count": 29,
   "metadata": {
    "collapsed": false
   },
   "outputs": [
    {
     "data": {
      "text/plain": [
       "0"
      ]
     },
     "execution_count": 29,
     "metadata": {},
     "output_type": "execute_result"
    }
   ],
   "source": [
    "# ## export geometry and feature attributes to ESRI Shapefile  \n",
    "\n",
    "import grass.script as gscript\n",
    "\n",
    "gscript.run_command('v.out.ogr', flags='u', overwrite=True, input='Antarctic_Shelf_Break_Sample_Areas_Zone11', \\\n",
    "                    output='/Users/paulp/Documents/csi/cshelves/data/vector/shelves', format='ESRI_Shapefile')"
   ]
  },
  {
   "cell_type": "code",
   "execution_count": null,
   "metadata": {
    "collapsed": true
   },
   "outputs": [],
   "source": []
  }
 ],
 "metadata": {
  "kernelspec": {
   "display_name": "Python 3",
   "language": "python",
   "name": "python3"
  },
  "language_info": {
   "codemirror_mode": {
    "name": "ipython",
    "version": 3
   },
   "file_extension": ".py",
   "mimetype": "text/x-python",
   "name": "python",
   "nbconvert_exporter": "python",
   "pygments_lexer": "ipython3",
   "version": "3.5.1"
  }
 },
 "nbformat": 4,
 "nbformat_minor": 0
}
