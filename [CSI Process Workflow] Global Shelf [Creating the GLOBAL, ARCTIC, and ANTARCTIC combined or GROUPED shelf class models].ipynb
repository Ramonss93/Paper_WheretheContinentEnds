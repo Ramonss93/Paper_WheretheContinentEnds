{
 "cells": [
  {
   "cell_type": "code",
   "execution_count": null,
   "metadata": {
    "collapsed": true
   },
   "outputs": [],
   "source": []
  },
  {
   "cell_type": "markdown",
   "metadata": {},
   "source": [
    "## [CSI Process Workflow] Global Shelf [Creating the GLOBAL, ARCTIC, and ANTARCTIC combined or GROUPED shelf class models]\n",
    "<br>\n",
    "Notebook Scope:\n",
    "- Create a GROUPED (all classes combined) shelf model for geomorphon-form shelf for the GLOBAL, ARCTIC, and ANTARCTIC regions\n",
    "- Convert raster models to vector layers\n",
    "- Export vector shelf models to external ESRI Shapefiles\n",
    "\n",
    "NOTE: models for bathymetry and slope are not (yet) included in this workflow. "
   ]
  },
  {
   "cell_type": "markdown",
   "metadata": {},
   "source": [
    "Notebook details processes to combine the four depth classes (shallow, intermediate, deep, and para) into a single, combined and classified (i.e. GROUPED) raster shelf model. Classification is as follows:\n",
    "\n",
    "1 -> shallow shelf <br>\n",
    "2 -> intermediate shelf <br>\n",
    "3 -> deep shelf <br>\n",
    "4 -> parashelf\n",
    "\n",
    "\n",
    "#### The Base Geomorphon Model:\n",
    "The model is defined using the geomorphon 'flat' form where 'flat' is defined as slopes that do not exceed 0.69°. Further, depths are constrained (based on exploratory clustering) to four depth windows: \n",
    "\n",
    "\n",
    "#### The Shelf Depth Classes:\n",
    "\n",
    "- (shallow)  0 meters to -166.8 meters \n",
    "- (intermediate) -168.3 meters to -420.2 meters \n",
    "- (deep) -422.9 meters to -742.9 meters \n",
    "- (para-shelf, shelf-like) -742.9 meters down to -1,211 meters\n",
    "\n",
    "##### Notes:\n",
    "- All data here is projected in the interrupted Goode Homolosine Projection (the IGH is an Equal Area projection)\n",
    "- flatness = 0° to 0.69°\n",
    "- search=5  (maximum window size-so that we don't lose too much of the small shelf bits)\n",
    "- distance=0\n",
    "- extract from the 1km resolution ETOPO1 topobathy DEM\n",
    "- Region Extents: xmin=-20015000, ymin=-8673000,xmax= 20015000, ymax=8673000\n",
    "- can use the ETOPO1_World_Shelf_Zone(k) layers, where k is the zone number from 1 thru 13, as masks for analysis\n",
    "\n",
    "##### The k=13 Zones:\n",
    "|1   | Eastern North America <br> \n",
    "|2\t | Western North America <br>\n",
    "|3\t | Eastern South America <br>\n",
    "|4\t | Western South America <br>\n",
    "|5\t | Europe <br>\n",
    "|6\t | Western Africa <br>\n",
    "|7\t | Indian/Oceana <br>\n",
    "|8\t | Eastern Asia <br>\n",
    "|9\t | Australia <br>\n",
    "|10\t | Arctic <br>\n",
    "|11\t | Antarctic <br>\n",
    "|12\t | Mediterranean <br> \n",
    "|13\t | New Zealand (not currently included in the analysis)"
   ]
  },
  {
   "cell_type": "markdown",
   "metadata": {},
   "source": [
    "#### Declare the class definition used to initialized the GRASS 7.1 instances needed for the processing to come (an instance allows calling GRASS libraries from outside of a GRASS session--cool eh?)"
   ]
  },
  {
   "cell_type": "code",
   "execution_count": 1,
   "metadata": {
    "collapsed": true
   },
   "outputs": [],
   "source": [
    "# This class definition is used to initialize an instance of GRASS 7.x in this domain space\n",
    "class GrassBASE:\n",
    "    def initGRASSEnv( self, database, loc, map ):\n",
    "        gisbase=os.environ[ 'GISBASE' ] = '/Applications/GRASS-7.1.app/Contents/MacOS'\n",
    "        gisdbase=database\n",
    "        location=loc\n",
    "        mapset=map\n",
    "        sys.path.append(os.path.join(os.environ['GISBASE'], \"etc\", \"python\"))\n",
    "        import grass.script as gscript\n",
    "        import grass.script.setup as gsetup\n",
    "        gsetup.init( gisbase, gisdbase, location, mapset )\n",
    "        print(gscript.gisenv())\n",
    "        print('GRASS Application base path:',gisbase)"
   ]
  },
  {
   "cell_type": "markdown",
   "metadata": {},
   "source": [
    "### Create a GROUPED GLOBAL shelf surface model by (re)combining the four shelf depth class rasters \n",
    "\n",
    "The 4 shelf-depth class geomorphon models are here recombined, but this time we retain the differentiation between class by assigning, encoding, the new grouped raster based on class. The key works simply:\n",
    "\n",
    "1 -> shallow shelf <br>\n",
    "2 -> intermediate shelf <br>\n",
    "3 -> deep shelf <br>\n",
    "4 -> parashelf\n",
    "\n",
    "This is done (in the script below) by:\n",
    "\n",
    "#### 1.) change the name of the class raster for intermediate, deep, and para-shelf environments:\n",
    "g.rename raster=ETOPO1_World_Shelf_intermed_1km,tmp_intermed\n",
    "g.rename raster=ETOPO1_World_Shelf_deep_1km,tmp_deep\n",
    "g.rename raster=ETOPO1_World_Shelf_parashelf_1km,tmp_parashelf\n",
    "\n",
    "Note: we need not change the shallow layer as it is already encoded as equal to 1\n",
    "\n",
    "\n",
    "#### 2.) reclass the intermediate, deep, and para-shelf model rasters:\n",
    "r.mapcalc —o\n",
    "ETOPO1_World_Shelf_intermed_1km=if(tmp_intermed, 2, null() )\n",
    "\n",
    "r.mapcalc —o\n",
    "ETOPO1_World_Shelf_deep_1km=if(tmp_deep, 3, null() )\n",
    "\n",
    "r.mapcalc —o\n",
    "ETOPO1_World_Shelf_parashelf_1km=if(tmp_parashelf, 4, null() )\n",
    "\n",
    "\n",
    "#### 3.) delete the temporary shelf rasters (clean up):\n",
    "g.remove -f type=raster name=tmp_intermed,tmp_deep,tmp_parashelf\n",
    "\n",
    "\n",
    "#### 4.) combine (patch) the group of four into one…\n",
    "r.patch —o input=ETOPO1_World_Shelf_shallow_1km,ETOPO1_World_Shelf_intermed_1km,ETOPO1_World_Shelf_deep_1km,ETOPO1_World_Shelf_parashelf_1km output=ETOPO1_World_Shelf_grouped_1km"
   ]
  },
  {
   "cell_type": "markdown",
   "metadata": {},
   "source": [
    "### Combine the four shelf class raster [GEOMORPHON] models for the GLOBAL data into one GROUPED model: \n",
    "Note that the GLOBAL data do not include the polar Arctic and Anarctic regions! See further along in the notebook for coverage of these latter (chilly) zones..."
   ]
  },
  {
   "cell_type": "code",
   "execution_count": 2,
   "metadata": {
    "collapsed": false
   },
   "outputs": [
    {
     "name": "stdout",
     "output_type": "stream",
     "text": [
      "\n",
      "********************************************\n",
      "Setting up a GRASS 7.1 Environment\n",
      "{u'MAPSET': u'user', u'GISDBASE': u'/Users/paulp/Documents/csi/cshelves/data/GRASSData', u'LOCATION_NAME': u'csi_shelf_mapping_global'}\n",
      "('GRASS Application base path:', '/Applications/GRASS-7.1.app/Contents/MacOS')\n",
      "()\n",
      ":/Applications/GRASS-7.1.app/Contents/MacOS/lib\n"
     ]
    }
   ],
   "source": [
    "import os, sys\n",
    "\n",
    "# set the location and mapset for the GRASS instance to be created\n",
    "gisdbase = '/Users/paulp/Documents/csi/cshelves/data/GRASSData'    # location of GRASS database  \n",
    "location = 'csi_shelf_mapping_global'                              # name of location\n",
    "mapset = 'user'                                                    # name of mapset containing data\n",
    "\n",
    "\n",
    "# initiate a GRASS instance/environment\n",
    "\n",
    "print('')\n",
    "print('********************************************')\n",
    "print('Setting up a GRASS 7.1 Environment') \n",
    "g = GrassBASE()\n",
    "g.initGRASSEnv( gisdbase, location, mapset )\n",
    "#print(sys.path)\n",
    "print()\n",
    "print(os.environ[ 'DYLD_LIBRARY_PATH' ])"
   ]
  },
  {
   "cell_type": "code",
   "execution_count": 3,
   "metadata": {
    "collapsed": false
   },
   "outputs": [
    {
     "data": {
      "text/plain": [
       "0"
      ]
     },
     "execution_count": 3,
     "metadata": {},
     "output_type": "execute_result"
    }
   ],
   "source": [
    "import grass.script as gscript\n",
    "\n",
    "# ## set the working geographic region:\n",
    "gscript.run_command( 'g.region', flags='p', region='ETOPO1_World_1km')\n",
    "\n",
    "# ## rename the intermediate, deep, and para-shelf models (we assume that they already exist):\n",
    "gscript.run_command( 'g.rename', raster='ETOPO1_World_Shelf_intermed_1km,tmp_intermed' )\n",
    "gscript.run_command( 'g.rename', raster='ETOPO1_World_Shelf_deep_1km,tmp_deep' )\n",
    "gscript.run_command( 'g.rename', raster='ETOPO1_World_Shelf_parashelf_1km,tmp_parashelf' )\n",
    "\n",
    "# ## do the reclassification for the three shelf class models:\n",
    "gscript.mapcalc('ETOPO1_World_Shelf_intermed_1km=if(tmp_intermed, 2, null() )', overwrite=True )\n",
    "gscript.mapcalc('ETOPO1_World_Shelf_deep_1km=if(tmp_deep, 3, null() )', overwrite=True )\n",
    "gscript.mapcalc('ETOPO1_World_Shelf_parashelf_1km=if(tmp_parashelf, 4, null() )', overwrite=True )\n",
    "\n",
    "# ## combine the 4 depth class models, now reclassified to allow for discrimination between each class, into a \n",
    "# ## single grouped model:\n",
    "gscript.run_command( 'r.patch', overwrite=True, input='ETOPO1_World_Shelf_shallow_1km,ETOPO1_World_Shelf_intermed_1km,ETOPO1_World_Shelf_deep_1km,ETOPO1_World_Shelf_parashelf_1km', \\\n",
    "                    output='ETOPO1_World_Shelf_GROUPED_1km')\n",
    "\n",
    "# ## clean up:\n",
    "gscript.run_command('g.remove', flags='f', type='raster', name='tmp_intermed,tmp_deep,tmp_parashelf' )"
   ]
  },
  {
   "cell_type": "markdown",
   "metadata": {},
   "source": [
    "### Create a GROUPED GLOBAL VECTOR model:"
   ]
  },
  {
   "cell_type": "code",
   "execution_count": 4,
   "metadata": {
    "collapsed": false
   },
   "outputs": [
    {
     "name": "stdout",
     "output_type": "stream",
     "text": [
      "Fin!\n"
     ]
    }
   ],
   "source": [
    "import grass.script as gscript\n",
    "\n",
    "# ## set the working geographic region:\n",
    "gscript.run_command( 'g.region', flags='p', region='ETOPO1_World_1km')\n",
    "\n",
    "# ## create the vector layer:\n",
    "gscript.run_command('r.to.vect', overwrite=True, input='ETOPO1_World_Shelf_GROUPED_1km', \\\n",
    "                    output='ETOPO1_GLOBAL_Shelf_GROUPED', type='area', column='CLASS' )\n",
    "\n",
    "print('Fin!')"
   ]
  },
  {
   "cell_type": "markdown",
   "metadata": {},
   "source": [
    "### Export the GROUPED GLOBAL VECTOR model to an external ESRI Shapefile"
   ]
  },
  {
   "cell_type": "code",
   "execution_count": 5,
   "metadata": {
    "collapsed": false
   },
   "outputs": [
    {
     "name": "stdout",
     "output_type": "stream",
     "text": [
      "Fin!\n"
     ]
    }
   ],
   "source": [
    "import grass.script as gscript\n",
    "\n",
    "# ## set the working geographic region:\n",
    "gscript.run_command( 'g.region', flags='p', region='ETOPO1_World_1km')\n",
    "\n",
    "gscript.run_command('v.out.ogr', overwrite=True, input='ETOPO1_GLOBAL_Shelf_GROUPED', \\\n",
    "                    output='ETOPO1_GLOBAL_Shelf_GROUPED', format='ESRI_Shapefile')\n",
    "\n",
    "print('Fin!')"
   ]
  },
  {
   "cell_type": "markdown",
   "metadata": {},
   "source": [
    "----------------------------------------------------------------------------------------------------------------------"
   ]
  },
  {
   "cell_type": "markdown",
   "metadata": {},
   "source": [
    "### Combine the four shelf class raster [GEOMORPHON] models for the ARCTIC data into one GROUPED model: "
   ]
  },
  {
   "cell_type": "code",
   "execution_count": 6,
   "metadata": {
    "collapsed": false
   },
   "outputs": [
    {
     "name": "stdout",
     "output_type": "stream",
     "text": [
      "\n",
      "********************************************\n",
      "Setting up a GRASS 7.1 Environment\n",
      "{u'MAPSET': u'user', u'GISDBASE': u'/Users/paulp/Documents/csi/cshelves/data/GRASSData', u'LOCATION_NAME': u'CSM_Arctic_Region'}\n",
      "('GRASS Application base path:', '/Applications/GRASS-7.1.app/Contents/MacOS')\n",
      "()\n",
      ":/Applications/GRASS-7.1.app/Contents/MacOS/lib:/Applications/GRASS-7.1.app/Contents/MacOS/lib\n"
     ]
    }
   ],
   "source": [
    "# set the location and mapset for the GRASS instance to be created\n",
    "gisdbase = '/Users/paulp/Documents/csi/cshelves/data/GRASSData'    # location of GRASS database  \n",
    "location = 'CSM_Arctic_Region'                                     # name of location\n",
    "mapset = 'user'                                                    # name of mapset containing data\n",
    "\n",
    "\n",
    "# initiate a GRASS instance/environment\n",
    "\n",
    "print('')\n",
    "print('********************************************')\n",
    "print('Setting up a GRASS 7.1 Environment') \n",
    "g = GrassBASE()\n",
    "g.initGRASSEnv( gisdbase, location, mapset )\n",
    "#print(sys.path)\n",
    "print()\n",
    "print(os.environ[ 'DYLD_LIBRARY_PATH' ])"
   ]
  },
  {
   "cell_type": "code",
   "execution_count": 7,
   "metadata": {
    "collapsed": false
   },
   "outputs": [
    {
     "name": "stdout",
     "output_type": "stream",
     "text": [
      "Fin!\n"
     ]
    }
   ],
   "source": [
    "import grass.script as gscript\n",
    "\n",
    "# ## set the working geographic region:\n",
    "gscript.run_command( 'g.region', flags='p', region='ETOPO1_Arctic_1km')\n",
    "\n",
    "# ## rename the intermediate, deep, and para-shelf models (we assume that they already exist):\n",
    "gscript.run_command( 'g.rename', raster='ETOPO1_Arctic_Shelf_intermed_1km,tmp_intermed' )\n",
    "gscript.run_command( 'g.rename', raster='ETOPO1_Arctic_Shelf_deep_1km,tmp_deep' )\n",
    "gscript.run_command( 'g.rename', raster='ETOPO1_Arctic_Shelf_parashelf_1km,tmp_parashelf' )\n",
    "\n",
    "# ## do the reclassification for the three shelf class models:\n",
    "gscript.mapcalc('ETOPO1_Arctic_Shelf_intermed_1km=if(tmp_intermed, 2, null() )', overwrite=True )\n",
    "gscript.mapcalc('ETOPO1_Arctic_Shelf_deep_1km=if(tmp_deep, 3, null() )', overwrite=True )\n",
    "gscript.mapcalc('ETOPO1_Arctic_Shelf_parashelf_1km=if(tmp_parashelf, 4, null() )', overwrite=True )\n",
    "\n",
    "# ## combine the 4 depth class models, now reclassified to allow for discrimination between each class, into a \n",
    "# ## single grouped model:\n",
    "gscript.run_command( 'r.patch', overwrite=True, input='ETOPO1_Arctic_Shelf_shallow_1km,ETOPO1_Arctic_Shelf_intermed_1km,ETOPO1_Arctic_Shelf_deep_1km,ETOPO1_Arctic_Shelf_parashelf_1km', \\\n",
    "                    output='ETOPO1_ARCTIC_Shelf_GROUPED_1km')\n",
    "\n",
    "# ## clean up:\n",
    "gscript.run_command('g.remove', flags='f', type='raster', name='tmp_intermed,tmp_deep,tmp_parashelf' )\n",
    "\n",
    "print('Fin!')"
   ]
  },
  {
   "cell_type": "markdown",
   "metadata": {},
   "source": [
    "### Create a GROUPED ARCTIC VECTOR model:"
   ]
  },
  {
   "cell_type": "code",
   "execution_count": 8,
   "metadata": {
    "collapsed": false
   },
   "outputs": [
    {
     "name": "stdout",
     "output_type": "stream",
     "text": [
      "Fin!\n"
     ]
    }
   ],
   "source": [
    "import grass.script as gscript\n",
    "\n",
    "# ## set the working geographic region:\n",
    "gscript.run_command( 'g.region', flags='p', region='ETOPO1_Arctic_1km')\n",
    "\n",
    "# ## create the vector layer:\n",
    "gscript.run_command('r.to.vect', overwrite=True, input='ETOPO1_ARCTIC_Shelf_GROUPED_1km', \\\n",
    "                    output='ETOPO1_ARCTIC_Shelf_GROUPED', type='area', column='CLASS' )\n",
    "\n",
    "print('Fin!')"
   ]
  },
  {
   "cell_type": "markdown",
   "metadata": {},
   "source": [
    "### Export the GROUPED ARCTIC VECTOR model to an external ESRI Shapefile"
   ]
  },
  {
   "cell_type": "code",
   "execution_count": 9,
   "metadata": {
    "collapsed": false
   },
   "outputs": [
    {
     "name": "stdout",
     "output_type": "stream",
     "text": [
      "Fin!\n"
     ]
    }
   ],
   "source": [
    "import grass.script as gscript\n",
    "\n",
    "# ## set the working geographic region:\n",
    "gscript.run_command( 'g.region', flags='p', region='ETOPO1_Arctic_1km')\n",
    "\n",
    "gscript.run_command('v.out.ogr', overwrite=True, input='ETOPO1_ARCTIC_Shelf_GROUPED', \\\n",
    "                    output='ETOPO1_ARCTIC_Shelf_GROUPED', format='ESRI_Shapefile')\n",
    "\n",
    "print('Fin!')"
   ]
  },
  {
   "cell_type": "markdown",
   "metadata": {},
   "source": [
    "----------------------------------------------------------------------------------------------------------------------"
   ]
  },
  {
   "cell_type": "markdown",
   "metadata": {},
   "source": [
    "### Combine the four shelf class raster [GEOMORPHON] models for the ANTARCTIC data into one GROUPED model: "
   ]
  },
  {
   "cell_type": "code",
   "execution_count": 10,
   "metadata": {
    "collapsed": false
   },
   "outputs": [
    {
     "name": "stdout",
     "output_type": "stream",
     "text": [
      "\n",
      "********************************************\n",
      "Setting up a GRASS 7.1 Environment\n",
      "{u'MAPSET': u'user', u'GISDBASE': u'/Users/paulp/Documents/csi/cshelves/data/GRASSData', u'LOCATION_NAME': u'CSM_Antarctic_Region'}\n",
      "('GRASS Application base path:', '/Applications/GRASS-7.1.app/Contents/MacOS')\n",
      "()\n",
      ":/Applications/GRASS-7.1.app/Contents/MacOS/lib:/Applications/GRASS-7.1.app/Contents/MacOS/lib:/Applications/GRASS-7.1.app/Contents/MacOS/lib\n"
     ]
    }
   ],
   "source": [
    "# set the location and mapset for the Antarctic GRASS instance to be created\n",
    "gisdbase = '/Users/paulp/Documents/csi/cshelves/data/GRASSData'    # location of GRASS database  \n",
    "location = 'CSM_Antarctic_Region'                                     # name of location\n",
    "mapset = 'user'                                                    # name of mapset containing data\n",
    "\n",
    "# initiate a GRASS instance/environment\n",
    "\n",
    "print('')\n",
    "print('********************************************')\n",
    "print('Setting up a GRASS 7.1 Environment') \n",
    "g = GrassBASE()\n",
    "g.initGRASSEnv( gisdbase, location, mapset )\n",
    "#print(sys.path)\n",
    "print()\n",
    "print(os.environ[ 'DYLD_LIBRARY_PATH' ])"
   ]
  },
  {
   "cell_type": "code",
   "execution_count": 11,
   "metadata": {
    "collapsed": false
   },
   "outputs": [
    {
     "name": "stdout",
     "output_type": "stream",
     "text": [
      "Fin!\n"
     ]
    }
   ],
   "source": [
    "import grass.script as gscript\n",
    "\n",
    "# ## set the working geographic region:\n",
    "gscript.run_command( 'g.region', flags='p', region='ETOPO1_Antarctic_1km')\n",
    "\n",
    "# ## rename the intermediate, deep, and para-shelf models (we assume that they already exist):\n",
    "gscript.run_command( 'g.rename', raster='ETOPO1_Antarctic_Shelf_intermed_1km,tmp_intermed' )\n",
    "gscript.run_command( 'g.rename', raster='ETOPO1_Antarctic_Shelf_deep_1km,tmp_deep' )\n",
    "gscript.run_command( 'g.rename', raster='ETOPO1_Antarctic_Shelf_parashelf_1km,tmp_parashelf' )\n",
    "\n",
    "# ## do the reclassification for the three shelf class models:\n",
    "gscript.mapcalc('ETOPO1_Antarctic_Shelf_intermed_1km=if(tmp_intermed, 2, null() )', overwrite=True )\n",
    "gscript.mapcalc('ETOPO1_Antarctic_Shelf_deep_1km=if(tmp_deep, 3, null() )', overwrite=True )\n",
    "gscript.mapcalc('ETOPO1_Antarctic_Shelf_parashelf_1km=if(tmp_parashelf, 4, null() )', overwrite=True )\n",
    "\n",
    "# ## combine the 4 depth class models, now reclassified to allow for discrimination between each class, into a \n",
    "# ## single grouped model:\n",
    "gscript.run_command( 'r.patch', overwrite=True, input='ETOPO1_Antarctic_Shelf_shallow_1km,ETOPO1_Antarctic_Shelf_intermed_1km,ETOPO1_Antarctic_Shelf_deep_1km,ETOPO1_Antarctic_Shelf_parashelf_1km', \\\n",
    "                    output='ETOPO1_ANTARCTIC_Shelf_GROUPED_1km')\n",
    "\n",
    "# ## clean up:\n",
    "gscript.run_command('g.remove', flags='f', type='raster', name='tmp_intermed,tmp_deep,tmp_parashelf' )\n",
    "\n",
    "print('Fin!')"
   ]
  },
  {
   "cell_type": "markdown",
   "metadata": {},
   "source": [
    "### Create a GROUPED ANTARCTIC VECTOR model:"
   ]
  },
  {
   "cell_type": "code",
   "execution_count": 12,
   "metadata": {
    "collapsed": false
   },
   "outputs": [
    {
     "name": "stdout",
     "output_type": "stream",
     "text": [
      "Fin!\n"
     ]
    }
   ],
   "source": [
    "import grass.script as gscript\n",
    "\n",
    "# ## set the working geographic region:\n",
    "gscript.run_command( 'g.region', flags='p', region='ETOPO1_Antarctic_1km')\n",
    "\n",
    "# ## create the vector layer:\n",
    "gscript.run_command('r.to.vect', overwrite=True, input='ETOPO1_ANTARCTIC_Shelf_GROUPED_1km', \\\n",
    "                    output='ETOPO1_ANTARCTIC_Shelf_GROUPED', type='area', column='CLASS' )\n",
    "\n",
    "print('Fin!')"
   ]
  },
  {
   "cell_type": "markdown",
   "metadata": {},
   "source": [
    "### Export the GROUPED ANTARCTIC VECTOR model to an external ESRI Shapefile"
   ]
  },
  {
   "cell_type": "code",
   "execution_count": 13,
   "metadata": {
    "collapsed": false
   },
   "outputs": [
    {
     "name": "stdout",
     "output_type": "stream",
     "text": [
      "Fin!\n"
     ]
    }
   ],
   "source": [
    "import grass.script as gscript\n",
    "\n",
    "gscript.run_command('v.out.ogr', overwrite=True, input='ETOPO1_ANTARCTIC_Shelf_GROUPED', \\\n",
    "                    output='ETOPO1_ANTARCTIC_Shelf_GROUPED', format='ESRI_Shapefile')\n",
    "\n",
    "print('Fin!')"
   ]
  },
  {
   "cell_type": "markdown",
   "metadata": {
    "collapsed": true
   },
   "source": [
    "### You can add code to build GROUPED BATHY and SLOPE-based models to accompany the GEOMORPHONs, if needed, here."
   ]
  },
  {
   "cell_type": "code",
   "execution_count": null,
   "metadata": {
    "collapsed": true
   },
   "outputs": [],
   "source": []
  },
  {
   "cell_type": "code",
   "execution_count": null,
   "metadata": {
    "collapsed": true
   },
   "outputs": [],
   "source": []
  }
 ],
 "metadata": {
  "anaconda-cloud": {},
  "kernelspec": {
   "display_name": "Python [Root]",
   "language": "python",
   "name": "Python [Root]"
  },
  "language_info": {
   "codemirror_mode": {
    "name": "ipython",
    "version": 3
   },
   "file_extension": ".py",
   "mimetype": "text/x-python",
   "name": "python",
   "nbconvert_exporter": "python",
   "pygments_lexer": "ipython3",
   "version": "3.5.2"
  }
 },
 "nbformat": 4,
 "nbformat_minor": 0
}
