{
 "cells": [
  {
   "cell_type": "markdown",
   "metadata": {},
   "source": [
    "## Exploratory Factor Analysis"
   ]
  },
  {
   "cell_type": "markdown",
   "metadata": {},
   "source": [
    "All of this work is performed in the R statisical environment rather than Python. If I could get the R part of jupyteR notebook working, I'd run it straight away, but I've had no luck on this front to date and so, while the instructions are provided here (and discussed), everything is cut from  this page, and pasted into an R session, to make the statistical magic happen. "
   ]
  },
  {
   "cell_type": "code",
   "execution_count": null,
   "metadata": {
    "collapsed": true
   },
   "outputs": [],
   "source": [
    "# first, let's load the data into an R dataframe:\n",
    "\n",
    "fn='/Users/paulparis/Documents/Projects/csi/data/vector/factor_analysis2.csv'\n",
    "dat<-read.csv(file=fn, header=FALSE)\n",
    "\n",
    "X<-as.matrix(dat)\n",
    "colnames(X)<-c('northing','area','depth_max','depth_mean','depth_std','slope_mean','slope_std')"
   ]
  },
  {
   "cell_type": "code",
   "execution_count": null,
   "metadata": {
    "collapsed": true
   },
   "outputs": [],
   "source": [
    "# ## do the principal components solution:\n",
    "\n",
    "R<-cor(X)                  # correlation matrix for obs. in X\n",
    "e<-eigen(R)$vectors\n",
    "lambda<-eigen(X)$values\n",
    "\n",
    "# Compute the first four (4) Factors:\n",
    "F1<-sqrt(lambda[1])*e[,1]\n",
    "F2<-sqrt(lambda[2])*e[,2]\n",
    "F3<-sqrt(lambda[3])*e[,3]\n",
    "F4<-sqrt(lambda[4])*e[,4]\n",
    "\n",
    "# combine the 4 factor factors (each one a column vector) into a single matrix L.pc\n",
    "L.pc<-cbind(F1,F2,F3,F4)\n",
    "rownames(L.pc)<-colnames(X)\n",
    "round(L.pc, 3)"
   ]
  },
  {
   "cell_type": "markdown",
   "metadata": {},
   "source": [
    " Factors:<br>\n",
    "               F1     F2     F3     F4<br>\n",
    "northing   -0.426 -0.703  0.525 -0.149<br>\n",
    "area        0.404 -0.765 -0.421  0.248<br>\n",
    "depth_max   0.853 -0.074  0.343  0.171<br>\n",
    "depth_mean  0.812  0.403  0.116  0.043<br>\n",
    "depth_std  -0.882  0.016 -0.258 -0.207<br>\n",
    "slope_mean -0.921  0.098  0.161  0.223<br>\n",
    "slope_std  -0.883  0.170  0.082  0.364<br>\n",
    "\n",
    "Some initial interpretation:\n",
    "Factor 1 looks like it accounts for variance associated with the general morphology of a continental shelf. Here, the slope and depth conspire to define the gentle sloping \"plain\" that is the shelf province along the continental margin.\n",
    "\n",
    "Factor 2 looks to account for variation seen in shelf morphology and extent in association with latitude. It is widely held that shelves tend to increase in areal extent, and are much deeper to the break as one moves north or south toward high latitudes and the poles. Interestingly, there is only a weak depth signal here. I might have suspected depth to be more of a factor (only 0.403) as a foil to the northing, and area.\n",
    "\n",
    "Factor 3 has only one significant observation: northing. This might further reflect the strong influence that latitude is thought to have on the overall geometry and morphology of the shelf. \n",
    "\n",
    "Factor 4 is insignificant, likely accounting for very little of the overall variance seen in the data. We'll find out for sure, in a bit..."
   ]
  },
  {
   "cell_type": "code",
   "execution_count": null,
   "metadata": {
    "collapsed": true
   },
   "outputs": [],
   "source": [
    "# ## compute the commonalities and the proportion of the overall variance in X explained by \n",
    "# ## the four factors\n",
    "\n",
    "p<-ncol(X)\n",
    "apply(L.pc^2, 1, sum)       # commonalities\n",
    "1 - apply(L.pc^2,1,sum)     # specific variances\n",
    "apply(L.pc^2,2,sum)/p       # proportion of variance explained by each factor"
   ]
  },
  {
   "cell_type": "markdown",
   "metadata": {},
   "source": [
    " commonalities:<br>\n",
    " northing       area  depth_max depth_mean  depth_std slope_mean  slope_std <br>\n",
    " 0.9726989  0.9871647  0.8800511  0.8362416  0.8870848  0.9330808  0.9471448 \n",
    " \n",
    " specific variances<br>\n",
    "  northing       area  depth_max depth_mean  depth_std slope_mean  slope_std <br>\n",
    " 0.9726989  0.9871647  0.8800511  0.8362416  0.8870848  0.9330808  0.9471448\n",
    " \n",
    " proportion of variance explained by each factor<br>\n",
    "         F1         F2         F3         F4 <br>\n",
    "0.59070509 0.18375704 0.09752663 0.04850648 \n",
    "\n",
    "Interpretation: based on the results the first two factors (F1 and F2) account for almost 78% (F1 59% and F2 18%) of the total variance seen in X--that plenty good. The remaining pair of factors, F3 and F4, add a bit (F3 about 10% and F4 about 5%), but to consider them further in the analysis would likely add more complication--for the additional latent variables--than is worth for their respective contributions. So, attention will focus from now on, on F1 and F2, only."
   ]
  },
  {
   "cell_type": "code",
   "execution_count": null,
   "metadata": {
    "collapsed": true
   },
   "outputs": [],
   "source": [
    "# ## the total variance accounted for by all the factors\n",
    "lambda/p\n",
    "sum(apply(L.pc^2,2,sum)/p)\n",
    "\n",
    "0.9204952   # about 92%. That's pretty good!"
   ]
  },
  {
   "cell_type": "code",
   "execution_count": null,
   "metadata": {
    "collapsed": true
   },
   "outputs": [],
   "source": [
    "# ## in an effort to gain some additional clarity with the data, we'll next apply an axes \n",
    "# ## rotation to enhance the interpreation of the factors, and perhaps better connect them\n",
    "# ## to the actual observations in X\n",
    "\n",
    "# do a varimax rotation\n",
    "varimax(L.pc, normalize=FALSE)"
   ]
  },
  {
   "cell_type": "markdown",
   "metadata": {},
   "source": [
    "$loadings\n",
    "\n",
    "Loadings:<br>\n",
    "           F1     F2     F3     F4  <br>  \n",
    "northing   -0.105         0.969  0.132<br>\n",
    "area        0.103 -0.961        -0.216<br>\n",
    "depth_max   0.856 -0.142        -0.354<br>\n",
    "depth_mean  0.671  0.141 -0.455 -0.398<br>\n",
    "depth_std  -0.847  0.167  0.140  0.349<br>\n",
    "slope_mean -0.442  0.279  0.253  0.772<br>\n",
    "slope_std  -0.394  0.224  0.110  0.854<br>\n",
    "\n",
    "                  F1    F2    F3    F4<br>\n",
    "SS loadings    2.273 1.124 1.250 1.796<br>\n",
    "Proportion Var 0.325 0.161 0.179 0.257<br>\n",
    "Cumulative Var 0.325 0.485 0.664 0.920<br>\n",
    "\n",
    "$rotmat<br>\n",
    "          [,1]       [,2]       [,3]       [,4]<br>\n",
    "[1,] 0.6923532 -0.2342007 -0.2966098 -0.6146704<br>\n",
    "[2,] 0.0613042  0.7142349 -0.6854275  0.1276690<br>\n",
    "[3,] 0.5681203  0.5215039  0.6206331  0.1417304<br>\n",
    "[4,] 0.4405997 -0.4037972 -0.2388017  0.7653714<br>\n",
    "\n",
    "Interpretation:\n",
    "Following the rotation things changed a bit. Well, actually, things changed a lot. For the first factor, which now (post-rotation) accounts for only 33% of the common factor variance (it was 52% before), depth is the key observed set of variables. There is a clear distinction (no dilution) between depth and the other observed variables.\n",
    "\n",
    "Factor 2, interestly, which now accounts for 16% of the common factor variance, is associated here with shelf surface area. So, some 15% of the overall observed variance in the data is tied to variation in shelf planform area. Again, interesting.\n",
    "\n",
    "I know that said there would be no more mention of factors 3 and 4, but with the rotation, I must renege. Factor 3, just moments ago was ready for dispensation over the trash heap, is now back, and important. You might note that this third latent variable/observation now accounts for more variation than does F2! F3, BTW, points to latitude's influence. There is a weak tie in with maximum depths over shelves, but the latter observations are not truly significant here. This is where latitude dominates. \n",
    "\n",
    "Factor 4 is also worthy of mention for its emphasis on the shelf slope's contribution to the variance mix. The slope, now isolated from its earlier association with depths, contributes a surprising amount to the overall variance accounting. F4, as per the tables above, once associated with < 5% of variance, now accounts for more than 25%! Only depth, at 33%, contributes more to our explaining the data in X. \n",
    "\n",
    "Overall, with the rotation, the cumulative variance accounted for remains at 92%, however, the overall distribution changed dramatically. We now must consider all four factors. Factors 1 and 4 are clearly important. Factors 2 and 3, on the other hand, one could be dropped to simplify things--probably F2."
   ]
  },
  {
   "cell_type": "code",
   "execution_count": null,
   "metadata": {
    "collapsed": true
   },
   "outputs": [],
   "source": [
    "# Data correlations:\n",
    "R<-cor(X)\n",
    "R\n",
    "             northing        area  depth_max  depth_mean  depth_std slope_mean  slope_std\n",
    "northing    1.0000000  0.12315212 -0.1944637 -0.51229893  0.2657059  0.3572749  0.2706418\n",
    "area        0.1231521  1.00000000  0.2879927  0.02510581 -0.2919584 -0.4548484 -0.4252346\n",
    "depth_max  -0.1944637  0.28799266  1.0000000  0.64744512 -0.8002891 -0.6775925 -0.7021580\n",
    "depth_mean -0.5122989  0.02510581  0.6474451  1.00000000 -0.6964975 -0.6907670 -0.5816764\n",
    "depth_std   0.2657059 -0.29195841 -0.8002891 -0.69649751  1.0000000  0.7329513  0.6919666\n",
    "slope_mean  0.3572749 -0.45484837 -0.6775925 -0.69076696  0.7329513  1.0000000  0.8680701\n",
    "slope_std   0.2706418 -0.42523457 -0.7021580 -0.58167642  0.6919666  0.8680701  1.0000000"
   ]
  },
  {
   "cell_type": "markdown",
   "metadata": {},
   "source": [
    "**------------------------------------------------------------------------------------------"
   ]
  },
  {
   "cell_type": "code",
   "execution_count": null,
   "metadata": {
    "collapsed": true
   },
   "outputs": [],
   "source": [
    "# ## Next, let's try the more sophisticated Maximum Likelihood solution toward a factor\n",
    "# ## solution:\n",
    "\n",
    "# here's a short, home-grown function designed to an array (or matrix) of observations\n",
    "stand<-function(v){\n",
    "    de<-sd(v)\n",
    "    if(de==0) de<-1\n",
    "    (v-mean(v)) / de\n",
    "}\n",
    "\n",
    "# ## now, use the new function to standardized the observations in X:\n",
    "Z<-apply(X,2,stand)\n",
    "\n",
    "# now, do the MaxLikelihood Anal: \n",
    "# ## NOTE: since 4 factors are too many for a 7 variable observation dataset, we go with 3 \n",
    "# ## factors in the model. Also, note that these data are not (yet) rotated...\n",
    "factanal(Z, factors=3, scores='Bartlett', rotation='none')"
   ]
  },
  {
   "cell_type": "markdown",
   "metadata": {},
   "source": [
    "Call:<br>\n",
    "factanal(x = Z, factors = 3, scores = \"Bartlett\", rotation = \"none\")<br>\n",
    "\n",
    "Uniquenesses:<br>\n",
    "  northing       area  depth_max depth_mean  depth_std slope_mean  slope_std <br>\n",
    "     0.613      0.542      0.097      0.120      0.242      0.005      0.207 <br>\n",
    "\n",
    "Loadings:<br>\n",
    "           Factor1 Factor2 Factor3<br>\n",
    "northing    0.362  -0.125   0.490 <br>\n",
    "area       -0.447  -0.250   0.442 <br>\n",
    "depth_max  -0.705   0.574   0.276 <br>\n",
    "depth_mean -0.711   0.454  -0.411 <br>\n",
    "depth_std   0.754  -0.426         <br>\n",
    "slope_mean  0.997                 <br>\n",
    "slope_std   0.874          -0.155 <br>\n",
    "\n",
    "               Factor1 Factor2 Factor3<br>\n",
    "SS loadings      3.658   0.802   0.714<br>\n",
    "Proportion Var   0.523   0.115   0.102<br>\n",
    "Cumulative Var   0.523   0.637   0.739<br>\n",
    "\n",
    "Test of the hypothesis that 3 factors are sufficient.<br>\n",
    "The chi square statistic is 3.61 on 3 degrees of freedom.<br>\n",
    "The p-value is 0.307 \n",
    "\n",
    "Interpretation: Here, as with the unrotated pricipal components solution, the first factor (Factor 1) accounts for the largest share of the variance: about 52%. Again, the focus of this factor is on depths and slopes, which we earlier and now continue to explain, as the overall morphology (associated with depth and slope across the shelf planform) of the shelf surface. \n",
    "\n",
    "Factor 2 is weakly tied to maximum depth over the shelf [break]. \n",
    "\n",
    "Factor 3 is not particularly interesting, but if we set a minimum variance accountabilty threhold at 70% we must include Factor 3 to reach it (~74%). \n",
    "\n",
    "Finally, take note of the hypothesis test for factor sufficiency. Based on the result, and a hypothesis model:\n",
    "\n",
    "Ho: 3 factors are sufficient for the model\n",
    "H1: 3 factors are not enough\n",
    "\n",
    "The value of p at 0.307 is < 0.35 (from the Chi-Square Distribution Percentage table), so Ho survives and we conclude that 3 factors is good enough.\n",
    "\n",
    "Cool!"
   ]
  },
  {
   "cell_type": "code",
   "execution_count": null,
   "metadata": {
    "collapsed": true
   },
   "outputs": [],
   "source": [
    "# ## Now, let's rotate the max. likelihood model:\n",
    "\n",
    "factanal(Z, factors=3,scores='Bartlett', rotation='varimax')"
   ]
  },
  {
   "cell_type": "markdown",
   "metadata": {},
   "source": [
    "Call:<br>\n",
    "factanal(x = Z, factors = 3, scores = \"Bartlett\", rotation = \"varimax\")<br>\n",
    "\n",
    "Uniquenesses:<br>\n",
    "  northing       area  depth_max depth_mean  depth_std slope_mean  slope_std <br>\n",
    "     0.613      0.542      0.097      0.120      0.242      0.005      0.207 <br>\n",
    "\n",
    "Loadings:<br>\n",
    "           Factor1 Factor2 Factor3<br>\n",
    "northing    0.100           0.614 <br>\n",
    "area       -0.139  -0.644   0.156 <br>\n",
    "depth_max  -0.882  -0.307  -0.172 <br>\n",
    "depth_mean -0.555          -0.750 <br>\n",
    "depth_std   0.719   0.350   0.344 <br>\n",
    "slope_mean  0.406   0.745   0.524 <br>\n",
    "slope_std   0.495   0.661   0.332 <br>\n",
    "\n",
    "               Factor1 Factor2 Factor3<br>\n",
    "SS loadings      2.044   1.633   1.497<br>\n",
    "Proportion Var   0.292   0.233   0.214<br>\n",
    "Cumulative Var   0.292   0.525   0.739<br>\n",
    "\n",
    "Test of the hypothesis that 3 factors are sufficient.<br>\n",
    "The chi square statistic is 3.61 on 3 degrees of freedom.<br>\n",
    "The p-value is 0.307 \n",
    "\n",
    "\n",
    "Interpretation: \n",
    "Depth still dominates Factor 1, and Factor 1 dominates, if only by a little bit, the variance accounting associated with the 3 common factors. Factor 1 can speak to about 29% of the variance. \n",
    "\n",
    "Factor 2, is not so clearly defined anymore. Rotation has moved things around enough that both slope and area are important contributors. What does this mean? Slope and area are inversely proportional in their relative influence, so, we can say that, as the mean slope steepens the shelve's planform area diminishes. That makes intuitive sense. Factor 2 accounts for 23% of the common factor variance. \n",
    "\n",
    "Factor 3 is dominated by mean depth, latitude, and weakly, mean slope. Latutude and slope are proportional, so we might state that, as we move north or south toward the poles, there is a general expectation that shelf slope's will be, on average steeper. This again is a weak association. Depth in inversely proportional to both latitude and slope. So, as we move north/south (increasing) we find smaller magnitude depths (i.e, deeper water). So, we might conclude that we find the deepest shelves at higher latitudes. This we, in general, already surmise. Factor 3, BTW, accounts for a bit more than 21% of the common factor variance. \n",
    "\n",
    "Overall, however, only about 74% of the total variance measured in the observations (in X) is accounted for by the common factors. This is down from 94% across 4 factors, in the principal components solution. "
   ]
  },
  {
   "cell_type": "code",
   "execution_count": 8,
   "metadata": {
    "collapsed": false
   },
   "outputs": [],
   "source": []
  },
  {
   "cell_type": "code",
   "execution_count": 26,
   "metadata": {
    "collapsed": false
   },
   "outputs": [],
   "source": []
  }
 ],
 "metadata": {
  "kernelspec": {
   "display_name": "Python 3",
   "language": "python",
   "name": "python3"
  },
  "language_info": {
   "codemirror_mode": {
    "name": "ipython",
    "version": 3
   },
   "file_extension": ".py",
   "mimetype": "text/x-python",
   "name": "python",
   "nbconvert_exporter": "python",
   "pygments_lexer": "ipython3",
   "version": "3.4.3"
  }
 },
 "nbformat": 4,
 "nbformat_minor": 0
}
