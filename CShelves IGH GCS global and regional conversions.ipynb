{
 "cells": [
  {
   "cell_type": "markdown",
   "metadata": {},
   "source": [
    "<h2>CShelves IGH GCS global and regional conversions</h2>"
   ]
  },
  {
   "cell_type": "markdown",
   "metadata": {},
   "source": [
    "The core scripts in this notebook support the partitioning, export, and re-projection of raster data associated with research behind the Geophysical Research Letters published paper: _Where the continent ends_\n",
    "\n",
    "- Script 1: partitions the existing global shelf converage raster (ETOPO1_World_Shelf_1km or ETOPO1_World_Shelf_NoPoles_1km) into the 12 regions as defined by the data's map projection: the Interrupted Goode Homolosine. It then exports the raster to a format of the user's choice (via the format argument) to an external raster image file outside of GRASS.\n",
    "\n",
    "- Script 2: uses gdalwarp to 'de-project' shelf regionals from Interrupted Goode to geographic (GCS) coordinates. The 12 regions are preserved. \n",
    "- Script 3: multi-file raster (GeoTIFF) to vector (ESRI shape file) conversion. \n",
    "- Script 4: single file raster (GeoTIFF) to vector (ESRI shape file) conversions.\n",
    "\n",
    "\n",
    "NOTES:\n",
    "1. Because of requirements/limitations with GRASS, you must run these scripts in a Python 2.7 environment\n",
    "2. Steinwand, 1994. Mapping raster imagery to the Interrupted Goode Homolosine projection. *International Journal of Remote Sensing*, 15(17):3463–3471."
   ]
  },
  {
   "cell_type": "code",
   "execution_count": 16,
   "metadata": {
    "collapsed": false
   },
   "outputs": [],
   "source": [
    "# This CLASS definition is used to initialize an instance of GRASS 7.x in this domain space\n",
    "class GrassBASE:\n",
    "    def initGRASSEnv( self, database, loc, map ):\n",
    "        gisbase=os.environ[ 'GISBASE' ] = '/Applications/GRASS-7.3.app/Contents/MacOS'\n",
    "        gisdbase=database\n",
    "        location=loc\n",
    "        mapset=map\n",
    "        sys.path.append(os.path.join(os.environ['GISBASE'], \"etc\", \"python\"))\n",
    "        import grass.script as grass\n",
    "        import grass.script.setup as gsetup\n",
    "        gsetup.init( gisbase, gisdbase, location, mapset )\n",
    "        print(grass.gisenv())"
   ]
  },
  {
   "cell_type": "code",
   "execution_count": 17,
   "metadata": {
    "collapsed": false
   },
   "outputs": [
    {
     "name": "stdout",
     "output_type": "stream",
     "text": [
      "\n",
      "********************************************\n",
      "Setting up GRASS Environment\n",
      "{u'MAPSET': u'user', u'GISDBASE': u'/Users/paulp/Documents/projects/ContinentalShelves/cshelves/data/GRASSData', u'LOCATION_NAME': u'csi_shelf_mapping_IGH'}\n"
     ]
    }
   ],
   "source": [
    "import sys, os\n",
    "\n",
    "# set the database, location, and mapset for the GRASS instance to be created\n",
    "gisdbase = '/Users/paulp/Documents/projects/ContinentalShelves/cshelves/data/GRASSData'    \n",
    "location = 'csi_shelf_mapping_IGH'                                  \n",
    "mapset = 'user'         \n",
    "\n",
    "\n",
    "# initiate a GRASS instance/environment\n",
    "print('')\n",
    "print ('********************************************')\n",
    "print ('Setting up GRASS Environment')\n",
    "g = GrassBASE()\n",
    "g.initGRASSEnv( gisdbase, location, mapset )"
   ]
  },
  {
   "cell_type": "markdown",
   "metadata": {},
   "source": [
    "**Script #1**  Break up the world shelf into the 12 non-overlapping regions of Steinwand, 1994"
   ]
  },
  {
   "cell_type": "code",
   "execution_count": 22,
   "metadata": {
    "collapsed": false
   },
   "outputs": [],
   "source": [
    "### SCRIPT #1: Partition the world IGH DSM into 12 regional sections based on splits as\n",
    "### defined in Steinwand, 1994:\n",
    "\n",
    "from grass.pygrass.modules.shortcuts import general as g\n",
    "from grass.pygrass.modules.shortcuts import raster as r\n",
    "from grass.pygrass.modules import Module\n",
    "\n",
    "r_out_gdal=Module('r.out.gdal')\n",
    "\n",
    "regions=['Region01_BBox','Region02_BBox','Region03_BBox','Region04_BBox','Region05_BBox',\n",
    "         'Region06_BBox','Region07_BBox','Region08_BBox','Region09_BBox','Region10_BBox',\n",
    "         'Region11_BBox','Region12_BBox']\n",
    "\n",
    "shelf_rast='ETOPO1_World_Shelf_1km'                         ####### ADJUST TO REFLECT CURRENT DSM #######\n",
    "\n",
    "for region in regions:\n",
    "    # set computational region\n",
    "    g.region(vector=region)\n",
    "\n",
    "    outrast='Region'+region[6:8]+'_Shelf_IGH_1km.tif'        ####### ADJUST TO REFLECT CURRENT DSM #######\n",
    "    r.mapcalc( '%s = %s' % (outrast, shelf_rast), overwrite = True)\n",
    "\n",
    "    inpt=outrast\n",
    "    outpt='/Users/paulp/shelves_data/'+outrast\n",
    "    r_out_gdal(input=inpt,output=outpt, format='GTiff', createopt='TFW=YES', overwrite=True)"
   ]
  },
  {
   "cell_type": "markdown",
   "metadata": {},
   "source": [
    "**Script #2**  Project (de-project) IGH projected GeoTIFFs to GCS coordinates"
   ]
  },
  {
   "cell_type": "code",
   "execution_count": 23,
   "metadata": {
    "collapsed": false
   },
   "outputs": [
    {
     "name": "stdout",
     "output_type": "stream",
     "text": [
      "All done\n"
     ]
    }
   ],
   "source": [
    "### Script #2: 'de-project' regional IGH DSMs to GCS:\n",
    "\n",
    "import os\n",
    "\n",
    "rinpath='/Users/paulp/shelves_data/Regional_rShelves_IGH_1km/' ####### ADJUST TO REFLECT SOURCE DSM LOC. #######\n",
    "routpath='/Users/paulp/shelves_data/Regional_rShelves_GCS_1km/' ####### ADJUST TO REFLECT TARGET DSM LOC. #######\n",
    "\n",
    "src_proj=['+proj=moll +lon_0=100w +x_0=-11119487.42847 +y_0=-336410.83237',\n",
    "         '+proj=moll +lon_0=30E +x_0=3335846.22854 +y_0=-336410.83237',\n",
    "          '+proj=sinu +lon_0=100W +x_0=-11119487.42847 +y_0=0.0',\n",
    "          '+proj=sinu +lon_0=30E +x_0=3335846.22854 +y_0=0.0',\n",
    "          '+proj=sinu +lon_0=160W +x_0=-17791179.88555 +y_0=0.0',\n",
    "          '+proj=sinu +lon_0=60W +x_0=-6671692.45708 +y_0=0.0 ',\n",
    "          '+proj=sinu +lon_0=20E +x_0=2223897.48569 +y_0=0.0',\n",
    "          '+proj=sinu +lon_0=140E +x_0=15567282.39985 +y_0=0.0',\n",
    "          '+proj=moll +lon_0=160W +x_0=-17791179.88555 +y_0=336410.83237',\n",
    "          '+proj=moll +lon_0=60W +x_0=-6671692.45708 +y_0=336410.83237',\n",
    "          '+proj=moll +lon_0=20E +x_0=2223897.48569 +y_0=336410.83237',\n",
    "          '+proj=moll +lon_0=140E +x_0=15567282.39985 +y_0=336410.83237']\n",
    "\n",
    "regions=['01','02','03','04','05','06','07','08','09','10','11','12']\n",
    "\n",
    "for proj, region in zip(src_proj, regions):\n",
    "    inrast=rinpath+'Region'+region+'_Shelf_IGH_1km.tif'      ####### ADJUST TO REFLECT CURRENT DSM #######\n",
    "    outrast=routpath+'Region'+region+'_Shelf_GCS_1km.tif'     ####### ADJUST TO REFLECT CURRENT DSM #######\n",
    "    projection_command_string='gdalwarp '+inrast+' '+outrast+' '+'-s_srs '+'\\\"'+proj+'\\\"'+' '+'-t_srs \\\"+proj=longlat +ellps=WGS84\\\"'\n",
    "    os.system(projection_command_string)\n",
    "    #os.system('gdalwarp %s %s -s_srs %s -t_srs +proj=longlat +ellps=WGS84' %(inrast, outrast, proj) )\n",
    "\n",
    "print('All done')"
   ]
  },
  {
   "cell_type": "markdown",
   "metadata": {},
   "source": [
    "**Script #3**  Raster to Vector Conversion (batch processor)"
   ]
  },
  {
   "cell_type": "code",
   "execution_count": null,
   "metadata": {
    "collapsed": false
   },
   "outputs": [],
   "source": [
    "### SCRIPT 3: Convert raster layer to vector shape file (multiple files)\n",
    "\n",
    "import os\n",
    "\n",
    "rpath='/Users/paulp/shelves_data/'    ####### ADJUST TO REFLECT CURRENT DATA #######\n",
    "rfolder='Regional_rShelves_NoPoles_IGH_1km/' ####### ADJUST TO REFLECT CURRENT DATA #######\n",
    "\n",
    "vfolder='Regional_vShelves_NoPoles_IGH/'     ####### ADJUST TO REFLECT CURRENT DATA #######\n",
    "regions=['01','02','03','04','05','06','07','08','09','10','11','12']\n",
    "\n",
    "for region in regions:\n",
    "    inrast=rpath+rfolder+'Region'+region+'_Shelf_NoPoles_IGH_1km.tif' ####### ADJUST TO REFLECT CURRENT DATA #######\n",
    "    outshplyr=rpath+vfolder+'Region'+region+'_vShelf_NoPoles_IGH.shp'    ####### ADJUST TO REFLECT CURRENT DATA #######\n",
    "    outshpf='Region'+region+'_vShelf_NoPoles_IGH'                     ####### ADJUST TO REFLECT CURRENT DATA #######\n",
    "    print('Processing ', inrast, 'to', outshpf )\n",
    "    \n",
    "    args=' '+inrast+' -f \\\"ESRI Shapefile\\\" '+outshplyr+' '+outshpf\n",
    "    os.system('/Library/Frameworks/GDAL.framework/Programs/gdal_polygonize.py'+args)\n",
    "\n",
    "print('All done')"
   ]
  },
  {
   "cell_type": "markdown",
   "metadata": {},
   "source": [
    "**Script #4**  Raster to Vector Conversion (single file)"
   ]
  },
  {
   "cell_type": "code",
   "execution_count": 30,
   "metadata": {
    "collapsed": false
   },
   "outputs": [
    {
     "data": {
      "text/plain": [
       "0"
      ]
     },
     "execution_count": 30,
     "metadata": {},
     "output_type": "execute_result"
    }
   ],
   "source": [
    "### SCRIPT 4: Convert raster layer to vector shape file (one file at a time)\n",
    "\n",
    "rpath='/Users/paulp/shelves_data/'    ####### ADJUST TO REFLECT CURRENT DATA #######\n",
    "rfolder='Antarctica/' ####### ADJUST TO REFLECT CURRENT DATA #######\n",
    "vfolder='Antarctica/'     ####### ADJUST TO REFLECT CURRENT DATA #######\n",
    "\n",
    "inrast=rpath+rfolder+'Antarctic_Shelf_stereo_1km.tif' ####### ADJUST TO REFLECT CURRENT DATA #######\n",
    "outshplyr=rpath+vfolder+'Antarctic_vShelf_stereo.shp'    ####### ADJUST TO REFLECT CURRENT DATA #######\n",
    "outshpf='Antarctic_vShelf_stereo.shp'                     ####### ADJUST TO REFLECT CURRENT DATA #######\n",
    "    \n",
    "args=' '+inrast+' -f \\\"ESRI Shapefile\\\" '+outshplyr+' '+outshpf\n",
    "os.system('/Library/Frameworks/GDAL.framework/Programs/gdal_polygonize.py'+args)"
   ]
  }
 ],
 "metadata": {
  "anaconda-cloud": {},
  "kernelspec": {
   "display_name": "Python [python2]",
   "language": "python",
   "name": "Python [python2]"
  },
  "language_info": {
   "codemirror_mode": {
    "name": "ipython",
    "version": 2
   },
   "file_extension": ".py",
   "mimetype": "text/x-python",
   "name": "python",
   "nbconvert_exporter": "python",
   "pygments_lexer": "ipython2",
   "version": "2.7.12"
  }
 },
 "nbformat": 4,
 "nbformat_minor": 0
}
