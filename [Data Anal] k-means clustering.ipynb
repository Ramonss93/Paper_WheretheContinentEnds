{
 "cells": [
  {
   "cell_type": "code",
   "execution_count": null,
   "metadata": {
    "collapsed": true
   },
   "outputs": [],
   "source": []
  },
  {
   "cell_type": "markdown",
   "metadata": {},
   "source": [
    "**Proposed C. Shelf Classification:**\n",
    "\n",
    "Prior to PCA and Factor Analysis and k-Means Clustering:\n",
    "- Shallow Shelf: 0 meters to -71.3 meters \n",
    "- Intermediate Shelf: -71.3 meters to -202.6 meters \n",
    "- Deep Intermediate Shelf: -202.6 meters to -421.9 meters \n",
    "- Deep Shelf: -421.9 meters to -741.4 meters \n",
    "\n",
    "Following the Analyses:\n",
    "- Shallow Shelf: 0 meters to -166.8 meters \n",
    "- Intermediate Shelf: -168.3 meters to -420.2 meters \n",
    "- Deep Shelf: -422.9 meters to -742.9 meters "
   ]
  },
  {
   "cell_type": "markdown",
   "metadata": {},
   "source": [
    "**Extract a 1000 point random sample from the composite (amalgamated) continental shelf model:**"
   ]
  },
  {
   "cell_type": "code",
   "execution_count": null,
   "metadata": {
    "collapsed": true
   },
   "outputs": [],
   "source": [
    "# ## In GRASS:\n",
    "# ## 1.) pull a 1000 observation random sample (arbitrary) from the global dataset w/slopes <= 0.69°\n",
    "g.region -p region='ETOPO1_World_1km'\n",
    "r.random input=ETOPO1_bathy_1211m_069deg_1km  npoints=1000 vector=ETOPO1_1211m_069deg_1000rpts\n",
    "\n",
    "# ## 2.) export to csv file\n",
    "v.out.ascii -c --overwrite input=ETOPO1_1211m_069deg_1000rpts@user type=point output=/Users/paulparis/Documents/Projects/csi/data/table/ETOPO1_1211m_069deg_1000rpts.csv columns=value separator=comma\n",
    "\n",
    "# ## 3.) load sample data into R\n",
    "fn1000<-'/Users/paulparis/Documents/Projects/csi/data/table/ETOPO1_1211m_069deg_1000rpts.csv'\n",
    "dat1000<-read.csv(file=fn1000, header=TRUE) \n",
    "Z<-as.matrix(dat1000)\n",
    "colnames(Z)<-c('easting','northing','cat','depth')"
   ]
  },
  {
   "cell_type": "markdown",
   "metadata": {},
   "source": [
    "**In R, find the optimal number of clusters (k).** This is to be based on bootstrapping the clustering operation 100 times and computing average Jaccard similarities. The higher the similarity index value the more reliable the clusters are (the less likely they'll be spurious groupings with no real mathematical or physical meaning). \n",
    "\n",
    "Ultimately the number of clusters will also hinge on geomorphic considerations. We cannot divorce the geology from the equation--relying on numbers alone can certainly lead us astray. "
   ]
  },
  {
   "cell_type": "code",
   "execution_count": null,
   "metadata": {
    "collapsed": true
   },
   "outputs": [],
   "source": [
    "# ## in R using fpc library\n",
    "# ## ...process thru the 1000-observation random sample using [k-means] clustering and\n",
    "# ## the fpc library\n",
    "z = Z[,'depth']\n",
    "\n",
    "kmc<-clusterboot(Z[,'depth'], B=100, bootmethod=\"boot\",clustermethod=kmeansCBI,krange=4, seed=15555)\n",
    "print(kmc)\n",
    "plot(kmc)"
   ]
  },
  {
   "cell_type": "code",
   "execution_count": null,
   "metadata": {
    "collapsed": true
   },
   "outputs": [],
   "source": [
    "# ## CLUSTER VALIDATION USING fpc clusterboot():\n",
    "\n",
    "# ## For k=2: \n",
    "# ## Clusterwise Jaccard bootstrap (omitting multiple points) mean: 0.9637098 0.9920365 \n",
    "# ## Overall Jaccard mean: 0.97787315\n",
    "# ## dissolved: 0 0\n",
    "# ## recovered: 100 100\n",
    "\n",
    "# ## For k=3:   <- BEST MATHEMATICAL FIT!\n",
    "# ## Clusterwise Jaccard bootstrap (omitting multiple points) mean: 0.9824788 0.9972110 0.9878141 \n",
    "# ## Overall Jaccard mean: 0.9891679666666667\n",
    "# ## dissolved: 0 0 0\n",
    "# ## recovered: 100 100 100\n",
    "\n",
    "# ## For k=4:  <- BEST FIT WHEN CONSIDERING GEOMORPHOLOGY:\n",
    "# ## Clusterwise Jaccard bootstrap (omitting multiple points) mean:  0.8614455 0.9757095 0.9280141 0.8661343\n",
    "# ## Overall Jaccard mean: 0.90782585\n",
    "# ## dissolved: 6 0 0 1\n",
    "# ## recovered: 75 100 95 74\n",
    "\n",
    "# ## For k=5: \n",
    "# ## Clusterwise Jaccard bootstrap (omitting multiple points) mean:  0.8377269 0.8526793 0.8772120 0.8051233 0.9587961\n",
    "# ## Overall Jaccard mean: 0.86630752\n",
    "# ## dissolved: 2 4 0 3 0 \n",
    "# ## recovered: 81 81 77 60 100\n",
    "\n",
    "# ## For k=6: \n",
    "# ## Clusterwise Jaccard bootstrap (omitting multiple points) mean:  0.8136434 0.9033047 0.8305438 0.7645273 0.9686151 0.7440459\n",
    "# ## Overall Jaccard mean: 0.8374467\n",
    "# ## dissolved: 1  1  3  5  0 16\n",
    "# ## recovered: 71  95  66  51 100  53\n",
    "\n",
    "# jaccard=[0.97787315,0.9891679666666667,0.90782585,0.86630752,0.8374467]\n",
    "print(( 0.8136434 + 0.9033047 + 0.8305438 + 0.7645273 + 0.9686151 + 0.7440459)/6)"
   ]
  },
  {
   "cell_type": "markdown",
   "metadata": {},
   "source": [
    "** K-Means Clustering in R:**"
   ]
  },
  {
   "cell_type": "code",
   "execution_count": null,
   "metadata": {
    "collapsed": true
   },
   "outputs": [],
   "source": [
    "# ## Generating k clusters using k-means via fpc:\n",
    "\n",
    "kmclust<-kmeansCBI(Z[,'depth'], k=3)\n",
    "kmclust<-kmeansCBI(z, k=3)\n",
    "    \n",
    "kmclust$result[1]   # cluster assignments vector\n",
    "kmclust$result[2]   # cluster centers (means)\n",
    "kmclust$result[3]   # total sum of squares\n",
    "kmclust$result[4]   # within [by cluster] sum of squares\n",
    "kmclust$result[5]   # total within sum of squares\n",
    "kmclust$result[6]   # between sum of squares\n",
    "kmclust$result[7]   # number of members in each cluster\n",
    "kmclust$result[8]   # number of iterations?\n",
    "kmclust$result[9]   # ifault???\n",
    "kmclust$result[10]  # critcal values???\n",
    "kmclust$result[11]  # best k???\n",
    "\n",
    "# ## Cluster Assignment Map (kam) (in a Python list) for k=4:\n",
    "kam3=[ 1,3,2,2,3,1,1,3,3,3,1,1,3,1,3,3,1,3,1,3,3,3,3,3,3,3,1,3,3,3,3,3,3,1,1,1,3,3,3,3,3,3,3,1,3,3,3,3,1,3,1,3,3,3,3,3,3,1,3,1,1,3,3,3,3,2,1,3,3,3,3,2,3,3,3,3,1,3,3,1,3,1,3,1,3,3,3,1,3,2,3,3,3,3,3,3,3,3,1,3,2,3,3,3,1,3,3,3,3,3,3,1,3,3,3,3,3,3,3,1,1,3,3,3,3,3,1,3,3,3,3,2,3,3,3,3,1,3,1,3,3,1,1,1,3,3,3,3,3,3,3,3,3,1,1,3,3,3,3,3,3,3,3,3,3,3,3,3,3,3,3,3,3,3,3,3,3,3,3,3,3,3,3,3,3,1,3,3,3,2,3,3,3,3,1,3,3,3,1,3,3,3,3,3,3,3,3,3,3,3,3,1,3,3,3,1,3,3,2,3,3,1,3,2,3,3,3,1,2,3,3,2,3,3,3,3,3,2,3,3,3,1,3,3,3,3,3,3,3,3,3,3,3,3,3,3,3,3,3,3,3,3,3,3,3,3,3,3,3,3,3,3,3,3,3,3,3,3,3,3,3,3,3,3,3,3,3,3,3,3,3,3,3,3,3,3,3,3,3,3,3,3,3,3,3,1,3,3,3,3,1,3,3,3,3,1,3,3,1,3,3,3,2,3,3,3,3,3,3,3,3,3,3,3,3,1,3,3,3,3,2,3,1,2,3,1,3,3,2,2,2,3,3,1,3,3,3,1,1,3,3,3,3,3,1,3,3,3,2,3,3,3,3,3,3,3,1,3,1,3,3,1,3,3,3,1,2,3,3,3,3,1,3,3,3,3,1,3,3,3,3,3,3,3,3,3,3,3,3,3,3,3,3,1,3,2,3,1,3,3,3,3,3,3,3,3,3,3,3,3,3,3,3,3,3,3,3,3,3,3,2,3,3,3,3,1,3,3,3,3,3,3,3,3,3,3,3,3,2,3,3,3,3,3,3,1,3,3,3,3,3,3,3,3,3,3,3,3,3,3,3,3,2,3,3,3,3,1,3,3,3,3,3,3,3,3,1,3,3,3,3,3,2,3,3,3,3,3,3,3,3,3,3,3,3,3,3,3,3,3,2,3,3,3,3,3,3,3,3,3,3,3,3,3,3,1,3,3,3,3,3,3,3,3,3,3,3,3,3,3,3,1,3,3,3,3,3,3,3,3,3,3,3,3,3,3,2,3,3,3,3,3,3,3,3,3,3,3,3,3,3,3,3,3,3,2,3,3,3,3,3,3,3,3,3,3,3,1,3,3,3,3,3,3,3,3,1,3,3,3,3,3,3,1,3,3,1,3,3,1,3,3,3,3,3,3,3,2,3,3,1,3,3,3,3,3,1,3,3,3,3,3,3,3,3,3,3,3,3,3,3,3,3,3,3,3,3,3,3,3,1,3,3,3,3,3,3,3,3,3,3,3,3,2,3,3,3,3,3,3,3,3,3,1,3,3,3,3,3,3,1,3,3,1,1,3,3,3,3,3,3,3,3,3,3,3,3,3,3,3,3,3,3,3,3,3,3,3,3,3,3,3,1,3,3,3,3,3,3,3,2,3,3,3,3,1,3,3,3,3,3,2,3,3,3,3,3,1,2,3,3,2,3,2,3,3,3,1,3,1,3,3,3,1,2,3,3,3,3,3,3,3,3,3,2,3,3,3,3,3,3,2,2,3,3,3,3,3,3,3,3,3,3,3,3,3,3,3,3,3,2,3,3,3,3,2,3,3,3,3,3,3,1,3,1,3,1,1,2,2,3,3,3,3,3,3,2,2,3,2,2,2,2,2,2,1,3,3,3,3,3,3,3,3,1,2,3,1,1,3,1,3,1,1,1,3,3,3,1,1,3,1,3,3,1,1,3,1,2,1,3,1,2,3,1,1,1,3,3,1,1,1,3,1,1,1,2,1,2,1,2,3,2,1,1,1,1,1,1,3,2,1,3,1,3,1,3,1,1,1,3,2,2,2,1,3,1,1,1,2,2,1,1,2,1,1,1,2,2,1,2,1,3,2,1,3,1,1,1,2,1,1,2,1,1,1,2,1,2,1,1,2,3,1,3,2,2,1,3,1,1,1,1,1,1,3,1,3,2,2,3,2,1,1,1,3,2,1,2,2,1,3,3,1,1,3,1,1,1,2,3,3,1,2,2,1,1,3,2,2 ]\n",
    "\n",
    "# ## Cluster Assignment Map (kam) (in a Python list) for k=4:\n",
    "kam4=[ 2,3,1,4,3,2,2,2,2,2,4,4,3,2,2,3,4,3,4,2,3,3,2,2,2,2,4,2,3,3,2,3,3,2,4,2,3,3,3,2,2,3,3,2,3,2,2,3,4,3,2,2,2,3,3,3,3,2,2,2,2,3,3,3,3,4,2,3,2,2,2,1,2,2,3,3,2,2,2,2,3,4,3,4,3,3,3,4,2,4,3,3,2,3,3,3,3,3,4,3,1,3,2,2,4,3,3,3,3,3,3,2,3,3,3,3,3,3,3,2,2,3,2,3,3,3,2,3,3,3,3,1,3,3,3,3,2,3,2,2,3,2,2,2,3,3,3,2,3,3,3,3,2,2,2,3,3,3,2,3,3,3,2,3,3,2,2,2,3,3,3,3,3,3,3,2,3,3,3,3,2,3,3,3,3,4,3,3,3,1,3,3,2,3,4,3,3,3,2,2,2,3,3,3,3,3,3,3,3,3,3,4,3,3,3,2,3,3,1,2,3,2,3,1,3,3,3,4,1,3,3,1,3,3,2,3,2,1,3,3,3,4,3,2,3,3,3,2,3,3,2,3,2,3,3,3,2,3,3,3,3,3,3,3,3,3,3,3,3,3,3,3,2,3,3,3,3,3,3,3,3,2,3,2,3,3,3,3,3,2,3,3,3,2,3,3,3,3,3,3,2,2,2,2,3,2,3,3,2,3,2,3,3,3,3,4,3,3,2,3,3,3,1,3,3,3,3,3,3,2,3,3,3,2,3,4,3,3,3,2,1,3,4,1,3,4,3,3,1,1,1,3,3,2,3,3,3,2,4,3,3,3,3,3,2,3,3,3,1,3,3,3,3,3,3,3,2,3,2,3,3,2,3,3,3,2,1,2,3,3,2,4,3,3,3,3,4,2,3,3,3,3,3,3,3,3,3,3,3,3,3,3,3,2,3,4,3,2,3,3,3,3,3,3,3,3,3,3,3,3,3,3,3,3,3,3,3,3,3,3,1,3,3,3,3,4,3,3,3,3,3,3,3,3,2,3,3,3,1,3,3,3,3,3,3,2,3,3,3,3,3,3,3,3,3,3,3,3,3,2,3,3,1,3,3,3,3,2,3,3,3,2,3,3,3,3,2,3,3,3,3,3,1,3,3,3,3,3,3,3,3,3,3,3,3,3,3,3,3,2,1,3,3,3,3,3,3,3,3,3,3,3,3,3,3,4,3,3,3,3,3,3,3,3,3,3,3,3,3,3,2,4,3,2,3,3,3,3,3,3,3,3,3,3,3,3,1,3,3,3,3,3,3,3,3,3,3,3,3,3,3,3,3,3,3,1,3,3,3,3,3,3,3,3,3,3,3,2,3,3,3,3,3,3,3,3,2,3,3,3,3,3,3,4,3,3,2,3,3,4,3,3,3,3,3,3,3,1,3,2,2,3,2,3,3,3,4,3,3,3,3,3,3,3,3,3,3,3,3,3,3,3,3,3,3,3,3,3,3,3,2,3,3,3,3,3,3,3,3,3,3,3,3,1,3,3,3,3,3,3,3,3,3,4,3,3,3,3,3,2,4,2,2,2,2,3,3,3,3,3,3,3,3,3,3,3,3,3,3,3,3,3,3,3,3,3,3,3,3,3,3,3,4,2,3,3,3,3,3,3,1,3,3,3,3,4,3,3,3,3,2,4,3,3,3,3,3,2,1,3,3,1,3,1,3,3,3,4,3,4,3,3,3,4,1,3,2,3,3,3,3,3,2,2,1,3,3,2,3,3,3,1,1,3,2,3,3,2,3,3,3,2,3,3,3,3,3,3,3,3,1,3,3,3,3,1,3,3,3,3,3,3,4,2,4,3,4,4,4,1,3,3,3,2,3,3,1,1,3,1,1,1,1,1,4,4,3,2,2,2,2,3,2,3,4,1,3,4,4,2,4,3,2,4,2,3,3,3,4,2,3,4,2,3,4,4,3,4,1,4,3,4,1,3,2,2,4,3,3,4,4,2,2,4,4,4,1,4,1,4,4,2,1,4,4,4,4,4,4,3,1,4,3,2,3,4,3,4,2,4,2,1,1,1,2,2,2,4,2,1,1,4,4,4,4,2,4,4,1,4,1,2,3,1,4,2,4,4,4,1,4,2,1,4,2,4,1,4,4,4,4,1,2,2,3,1,1,2,3,4,4,2,2,4,4,3,4,3,1,1,2,1,2,2,4,3,1,4,1,1,4,3,3,4,4,3,4,4,4,1,3,3,4,4,4,4,4,3,4,4 ]"
   ]
  },
  {
   "cell_type": "code",
   "execution_count": null,
   "metadata": {
    "collapsed": true
   },
   "outputs": [],
   "source": [
    "print(df1000[df1000[\"cluster_assign_k4\"] == 1][\"depth\"].min()) \n",
    "print(df1000[df1000[\"cluster_assign_k4\"] == 1][\"depth\"].max()) \n",
    "print(df1000[df1000[\"cluster_assign_k4\"] == 1][\"depth\"].mean())\n",
    "print()\n",
    "print(df1000[df1000[\"cluster_assign_k4\"] == 2][\"depth\"].min()) \n",
    "print(df1000[df1000[\"cluster_assign_k4\"] == 2][\"depth\"].max()) \n",
    "print(df1000[df1000[\"cluster_assign_k4\"] == 2][\"depth\"].mean())\n",
    "print()\n",
    "print(df1000[df1000[\"cluster_assign_k4\"] == 3][\"depth\"].min()) \n",
    "print(df1000[df1000[\"cluster_assign_k4\"] == 3][\"depth\"].max())\n",
    "print(df1000[df1000[\"cluster_assign_k4\"] == 3][\"depth\"].mean())\n",
    "print()\n",
    "print(df1000) #print(df1000[df1000[\"cluster_assign_k4\"] == 2])\n",
    "\n",
    "# ## in R:\n",
    "# plot(Z[,'depth'], col = kmclust$result[1])\n",
    "# points(kmclust$result[2], col = 1:2, pch = 8, cex = 2)"
   ]
  },
  {
   "cell_type": "markdown",
   "metadata": {},
   "source": [
    "**K-Means Clustering using Python SciKit Learn (sklearn.cluster):**"
   ]
  },
  {
   "cell_type": "code",
   "execution_count": 2,
   "metadata": {
    "collapsed": true
   },
   "outputs": [],
   "source": [
    "# ## import requisite libs:\n",
    "import numpy as np \n",
    "import pandas\n",
    "import matplotlib.pyplot as plt\n",
    "#from mpl_toolkits.mplot3d import Axes3D\n",
    "#from sklearn.neighbors import KernelDensity\n",
    "from sklearn.cluster import KMeans\n",
    "#from sklearn.cluster import DBSCAN\n",
    "from sklearn.metrics import silhouette_samples, silhouette_score "
   ]
  },
  {
   "cell_type": "code",
   "execution_count": 3,
   "metadata": {
    "collapsed": false
   },
   "outputs": [],
   "source": [
    "# ## load the sample data (1000 random observations) into a pandas data frame:\n",
    "fn1000='/Users/paulparis/Documents/Projects/csi/data/table/ETOPO1_1211m_069deg_1000rpts.csv'\n",
    "\n",
    "df=pandas.read_csv(fn1000, sep=',', header=1, names=['northing','area','cat','depth'] )"
   ]
  },
  {
   "cell_type": "code",
   "execution_count": 4,
   "metadata": {
    "collapsed": false
   },
   "outputs": [
    {
     "name": "stdout",
     "output_type": "stream",
     "text": [
      "999\n"
     ]
    }
   ],
   "source": [
    "# ## FOR CLUSTERING ON DEPTH ONLY...\n",
    "\n",
    "# ## extract the depth column vector from df (where we only cluster on depth; 1-D)\n",
    "depth=df['depth']\n",
    "ds=depth.reshape(-1,1)    # reshape the depth array so that KMeans will process\n",
    "\n",
    "k=4                       # number of clusters\n",
    "kmc=KMeans(n_clusters=k, random_state=15000)  # k-means++\n",
    "kmc.fit(ds)\n",
    "kmc_pred=kmc.predict(ds)\n",
    "\n",
    "# retrieve clustering results...\n",
    "labels=kmc.labels_                # cluster assignment map (identifies which cluster each obs belongs)\n",
    "centroids=kmc.cluster_centers_    # cluster centers or centroids\n",
    "inertia=kmc.inertia_              # cluster inertia-total \n",
    "print(len(ds))"
   ]
  },
  {
   "cell_type": "code",
   "execution_count": 5,
   "metadata": {
    "collapsed": false
   },
   "outputs": [],
   "source": [
    "# ## PLOTTING: DEPTH VS LATITUDE:\n",
    "# ##\n",
    "# ## map the depth data observations to their assigned clusters and plot 'em against latitude...\n",
    "\n",
    "stats={}\n",
    "dx=np.array([])\n",
    "dy=np.array([])\n",
    "xticklabels=['0','22.5','45','67.5','90']   # 'converts' northings to latitude\n",
    "\n",
    "fig1=plt.figure(figsize=(7,7), dpi=300)\n",
    "ax1 = fig1.add_subplot(1,1,1)\n",
    "\n",
    "for i in range(k):\n",
    "    stats_area=[]\n",
    "    dx=df.iloc[np.where(labels==i)]['northing']\n",
    "    dy=ds[np.where(labels==i)]\n",
    "    \n",
    "    # find the min and max values, and compute the mean, for the depths in dy[i]...\n",
    "    stats_area.append(len(dy))\n",
    "    stats_area.append(np.amin(dy))\n",
    "    stats_area.append(np.amax(dy))\n",
    "    stats_area.append(np.mean(dy))\n",
    "    \n",
    "    stats[i]=stats_area\n",
    "    \n",
    "    \n",
    "    # plot dx against dy[i]\n",
    "    ax1.plot(abs(dx),dy, 'o')\n",
    "    \n",
    "    #ax1.axhline(y=-167.0, xmin=0.025, xmax=0.975, linewidth=2.0, color='k')\n",
    "    #ax1.axhline(y=-421.0, xmin=0.025, xmax=0.975, linewidth=2.0, color='k')\n",
    "    #ax1.axhline(y=-743.0, xmin=0.025, xmax=0.975, linewidth=2.0, color='k')\n",
    "    \n",
    "    plt.xticks([0,5000000,10000000,15000000,20000000], xticklabels)  # remap the northings to latitude\n",
    "    ax1.set_xlabel('Latitude (degrees North and South)')\n",
    "    ax1.set_ylabel('Depth (meters)')\n",
    "    ax1.set_title('K-Means Clustered Water Depths with Latitude')\n",
    "\n",
    "#plt.show()\n",
    "plt.savefig(\"/Users/paulparis/Dropbox/projects/csi/graphics/kmeansdepthlat.pdf\")"
   ]
  },
  {
   "cell_type": "code",
   "execution_count": 12,
   "metadata": {
    "collapsed": false
   },
   "outputs": [],
   "source": [
    "# ## PLOTTING: DEPTH VS SHELF AREA:\n",
    "# ##\n",
    "# ## map the depth data observations to their assigned clusters and plot 'em against shelf area...\n",
    "\n",
    "stats={}\n",
    "dx=np.array([])\n",
    "dy=np.array([])\n",
    "xticklabels=['0','1-E06','2-E06','3-E06','4-E06','5-E06','6-E06','7-E06','8-E06','9-E06']   # 'converts' northings to latitude\n",
    "\n",
    "fig2=plt.figure(figsize=(7,7), dpi=300)\n",
    "ax2 = fig2.add_subplot(1,1,1)\n",
    "\n",
    "for i in range(k):\n",
    "    stats_area=[]\n",
    "    dx=df.iloc[np.where(labels==i)]['area']\n",
    "    dy=ds[np.where(labels==i)]\n",
    "    \n",
    "    # find the min and max values, and compute the mean, for the depths in dy[i]...\n",
    "    stats_area.append(len(dy))\n",
    "    stats_area.append(np.amin(dy))\n",
    "    stats_area.append(np.amax(dy))\n",
    "    stats_area.append(np.mean(dy))\n",
    "    \n",
    "    stats[i]=stats_area\n",
    "    \n",
    "    # plot dx against dy[i]\n",
    "    ax2.plot(abs(dx),dy, 'o')\n",
    "    \n",
    "    ax2.axhline(y=-167.0, xmin=0.025, xmax=0.975, linewidth=2.0, color='k')\n",
    "    ax2.axhline(y=-421.0, xmin=0.025, xmax=0.975, linewidth=2.0, color='k')\n",
    "    ax2.axhline(y=-743.0, xmin=0.025, xmax=0.975, linewidth=2.0, color='k')\n",
    "    \n",
    "    plt.xticks([0,1000000,2000000,3000000,4000000,5000000,6000000,7000000,8000000,9000000], xticklabels)  # remap the northings to latitude\n",
    "    ax2.set_xlabel('Shelf Surface Area (Sq. Meters)')\n",
    "    ax2.set_ylabel('Depth (meters)')\n",
    "    ax2.set_title('K-Means Clustered Water Depths with Shelf Area')\n",
    "\n",
    "#plt.show()\n",
    "plt.savefig(\"/Users/paulparis/Documents/Projects/csi/docs/graphics/factor_cluster_graphics/kmeansdeptharea.pdf\")"
   ]
  },
  {
   "cell_type": "code",
   "execution_count": 13,
   "metadata": {
    "collapsed": false
   },
   "outputs": [
    {
     "name": "stdout",
     "output_type": "stream",
     "text": [
      "60\n",
      "4174356.61104\n",
      "{0: [157, -420.21063199999998, -168.27789300000001, -279.34461382802544], 1: [682, -166.75762900000001, -0.0091090000000000008, -57.587527803519059], 2: [100, -742.946594, -422.91021699999999, -564.00234098999999], 3: [60, -1197.429077, -782.00598100000002, -952.36715690000005]}\n",
      "[[-278.63203797]\n",
      " [ -57.42721928]\n",
      " [-564.00234099]\n",
      " [-952.3671569 ]]\n"
     ]
    }
   ],
   "source": [
    "#dx=df.iloc[np.where(labels==0)]['northing']\n",
    "print(len(dx))\n",
    "print(inertia)\n",
    "print(stats )\n",
    "print(centroids)"
   ]
  },
  {
   "cell_type": "code",
   "execution_count": null,
   "metadata": {
    "collapsed": false
   },
   "outputs": [],
   "source": [
    "# ## silhouette analysis:\n",
    "\n",
    "import matplotlib.cm as cm\n",
    "\n",
    "# ## compute the silhouette score: the silhouette score yields an average value for all samples.\n",
    "silhouette_avg=silhouette_score(ds,kmc_pred)\n",
    "print('The average silhouette score for',k,'clusters is:',silhouette_avg)\n",
    "\n",
    "# map (assign) each data point to its designated cluster...\n",
    "sample_silhouette_values=silhouette_samples(ds,kmc_pred)\n",
    "\n",
    "fig3=plt.figure(figsize=(14,7), dpi=300)\n",
    "ax3 = fig3.add_subplot(1,1,1)\n",
    "\n",
    "#fig, (ax1) = plt.subplots(1, 1)\n",
    "#fig.set_size_inches(18, 7)\n",
    "\n",
    "    # The 1st subplot is the silhouette plot\n",
    "    # The silhouette coefficient can range from -1, 1 but in this example all\n",
    "    # lie within [-0.1, 1]\n",
    "ax3.set_xlim([-0.1, 1])\n",
    "    # The (n_clusters+1)*10 is for inserting blank space between silhouette\n",
    "    # plots of individual clusters, to demarcate them clearly.    \n",
    "ax3.set_ylim([0, len(ds) + (k + 1) * 10])\n",
    "\n",
    "y_lower=10\n",
    "for i in [3,2,0,1]:     # when k=3 [2,1,0] ; when k=4 [3,2,0,1]\n",
    "    # select from the cluster assigned data points all observations in cluster i\n",
    "    ith_silhouette_value = sample_silhouette_values[kmc_pred == i]\n",
    "    ith_silhouette_value.sort()\n",
    "    \n",
    "    # Draw the cluster silhouettes in the canvas frame\n",
    "    size_cluster_i = ith_silhouette_value.shape[0]\n",
    "    y_upper = y_lower+size_cluster_i\n",
    "    color = cm.gray(float(i) / k)\n",
    "    ax3.fill_betweenx(np.arange(y_lower, y_upper),0, ith_silhouette_value,facecolor=color, edgecolor=color, alpha=0.7)\n",
    "    \n",
    "    # Label the silhouette plots with their cluster numbers at the middle\n",
    "    cluster_text=str(round(stats[i][2],1))+'m to '+str(round(stats[i][1],1))+'m'\n",
    "    print(cluster_text)\n",
    "    ax3.text(0.05, y_lower + 0.5 * size_cluster_i,  cluster_text, color='w')   # str(i)\n",
    "\n",
    "    # Compute the new y_lower for next plot\n",
    "    y_lower = y_upper + 10  # 10 for the 0 samples\n",
    "\n",
    "ax3.set_title(\"Silhouette Plot for the K-Means Clustered Water Depths - k=3\")\n",
    "ax3.set_xlabel(\"Silhouette Coefficient\")\n",
    "ax3.set_ylabel(\"Cluster (Depth Class)\")\n",
    "\n",
    "# The vertical line for average silhoutte score of all the values\n",
    "ax3.axvline(x=silhouette_avg, color=\"red\", linestyle=\"--\")\n",
    "    \n",
    "ax3.set_yticks([])  # Clear the yaxis labels / ticks\n",
    "ax3.set_xticks([-0.1, 0, 0.2, 0.4, 0.6, 0.8, 1])\n",
    "    \n",
    "plt.show()\n",
    "#plt.savefig(\"/Users/paulparis/Documents/Projects/csi/docs/graphics/factor_cluster_graphics/kmeanssilhouettek3.pdf\")"
   ]
  },
  {
   "cell_type": "code",
   "execution_count": null,
   "metadata": {
    "collapsed": false
   },
   "outputs": [],
   "source": [
    "The average silhouette score for 2 clusters is: 0.762828548598\n",
    "The average silhouette score for 3 clusters is: 0.726671045297\n",
    "The average silhouette score for 4 clusters is: 0.672984662494\n",
    "The average silhouette score for 5 clusters is: 0.639961261179\n",
    "The average silhouette score for 6 clusters is: 0.599966286044"
   ]
  },
  {
   "cell_type": "code",
   "execution_count": 20,
   "metadata": {
    "collapsed": false
   },
   "outputs": [],
   "source": [
    "# ## Plot the Jaccard Similarity Metric against k\n",
    "\n",
    "K_=[2,3,4,5,6]\n",
    "jaccard=[0.97787315,0.989167967,0.90782585,0.86630752,0.8374467]\n",
    "\n",
    "fig4=plt.figure(figsize=(7,7), dpi=300)\n",
    "ax4 =fig4.add_subplot(1,1,1)\n",
    "\n",
    "ax4.plot(K_,jaccard, '-o')\n",
    "\n",
    "ax4.set_xticks([2, 3, 4, 5, 6])\n",
    "ax4.set_xlabel('k (number of clusters)')\n",
    "ax4.set_ylabel('Jaccard Similarity')\n",
    "ax4.set_title('Jaccard Similarities')\n",
    "#plt.show()\n",
    "plt.savefig(\"/Users/paulparis/Documents/Projects/csi/docs/graphics/factor_cluster_graphics/kmeansJaccard.pdf\")"
   ]
  },
  {
   "cell_type": "code",
   "execution_count": 47,
   "metadata": {
    "collapsed": false
   },
   "outputs": [
    {
     "name": "stdout",
     "output_type": "stream",
     "text": [
      "[157, -420.21063199999998, -168.27789300000001, -279.34461382802544]\n",
      "-168.277893 -420.210632\n",
      "-168.3m to -420.210632m\n"
     ]
    }
   ],
   "source": [
    "i=0\n",
    "cluster_text=str(round(stats[i][2],1))+'m to '+str(stats[i][1])+'m'\n",
    "print(stats[i])\n",
    "print(stats[i][2], stats[i][1])\n",
    "print(cluster_text)"
   ]
  },
  {
   "cell_type": "code",
   "execution_count": 33,
   "metadata": {
    "collapsed": false
   },
   "outputs": [
    {
     "name": "stdout",
     "output_type": "stream",
     "text": [
      "[[ -56.62612675]\n",
      " [-562.5786607 ]\n",
      " [-952.3671569 ]\n",
      " [-274.27361741]]\n"
     ]
    }
   ],
   "source": [
    "# maybe:\n",
    "# cluster depth and latitude\n",
    "#         depth and area\n",
    "#         depth, area, and latitude\n",
    "#\n",
    "# just to see what they might reveal..."
   ]
  },
  {
   "cell_type": "code",
   "execution_count": null,
   "metadata": {
    "collapsed": true
   },
   "outputs": [],
   "source": [
    "# ## SPARE PARTS:\n",
    "\n",
    "#lines=plt.plot(centroids[i,0],centroids[i,1], 'kx')\n",
    "    \n",
    "#plt.setp(lines,ms=15.0)\n",
    "#plt.setp(lines,mew=2.0)\n",
    "    \n",
    "#df.iloc[np.where(labels==i)]\n",
    "\n"
   ]
  }
 ],
 "metadata": {
  "kernelspec": {
   "display_name": "Python 3",
   "language": "python",
   "name": "python3"
  },
  "language_info": {
   "codemirror_mode": {
    "name": "ipython",
    "version": 3
   },
   "file_extension": ".py",
   "mimetype": "text/x-python",
   "name": "python",
   "nbconvert_exporter": "python",
   "pygments_lexer": "ipython3",
   "version": "3.5.1"
  }
 },
 "nbformat": 4,
 "nbformat_minor": 0
}
