{
 "cells": [
  {
   "cell_type": "markdown",
   "metadata": {
    "collapsed": true
   },
   "source": [
    "<h3>3-D Data Plot</h3>"
   ]
  },
  {
   "cell_type": "code",
   "execution_count": 1,
   "metadata": {
    "collapsed": false
   },
   "outputs": [],
   "source": [
    "# ## plot the max depth, latitude, and area in 3D\n",
    "\n",
    "import numpy as np \n",
    "import pandas\n",
    "import matplotlib.pyplot as plt\n",
    "from mpl_toolkits.mplot3d import Axes3D\n",
    "from matplotlib import rcParams\n",
    "\n",
    "\n",
    "def PlotDataSet3D(Z,M,Y):\n",
    "    '''\n",
    "    plots the entire dataset (all slopes/depths/latitudes) as contained in the data input \t\n",
    "    file referenced by fname in beautiful 3-D:\n",
    "    '''\n",
    "    fignum = 1\n",
    "    fig = plt.figure(fignum, figsize=(5,5))\n",
    "    plt.clf()   # clear the figure\n",
    "    #rect=[0,0,0.95,1], \n",
    "    ax = Axes3D(fig, elev=40, azim=134 )\n",
    "    plt.cla()\n",
    "\n",
    "    rcParams['axes.labelsize'] = 10\n",
    "    rcParams['axes.titlesize'] = 16\n",
    "    rcParams['xtick.labelsize'] = 10\n",
    "    rcParams['ytick.labelsize'] = 10\n",
    "    rcParams['legend.fontsize'] = 10\n",
    "    rcParams['font.family'] = 'serif'\n",
    "    rcParams['font.serif'] = ['Computer Modern Roman']\n",
    "    rcParams['text.usetex'] = True\n",
    "    rcParams['grid.alpha'] = 0.0\n",
    "\n",
    "    ax.scatter(Y,M,Z)\n",
    "    #ax.set_zlim(-8000,0)\n",
    "    #ax.set_ylim(0,8000000)\n",
    "    ax.set_xlabel=('Max Shelf Depth (meters)')\n",
    "    ax.set_ylabel=('Area (Sq. Meters)')\n",
    "    ax.set_zlabel=('Northing (meters)')\n",
    "\n",
    "    plt.show()\n",
    "    \n",
    "    \n",
    "def PlotClusteredData3D(Z,M,Y,C):\n",
    "    '''\n",
    "    plots the entire dataset (all slopes/depths/latitudes) as contained in the data input \t\n",
    "    file referenced by fname in beautiful 3-D:\n",
    "    '''\n",
    "    fignum = 1\n",
    "    fig = plt.figure(fignum, figsize=(1,1))\n",
    "    plt.clf()   # clear the figure\n",
    "    #rect=[0,0,0.95,1], \n",
    "    ax = Axes3D(fig, elev=40, azim=134 )\n",
    "    plt.cla()\n",
    "\n",
    "    ax.scatter(Y,M,Z,c=C)\n",
    "    #ax.set_zlim(-8000,0)\n",
    "    #ax.set_ylim(0,8000000)\n",
    "    ax.set_xlabel=('Slope (degrees)')\n",
    "    ax.set_ylabel=('Latitude (DD)')\n",
    "    ax.set_zlabel=('Depth (meters)')\n",
    "\n",
    "    plt.show()\n",
    "\n",
    "    \n",
    "#fn='/Users/paulparis/Documents/Projects/csi/data/vector/factor_analysis2.csv'\n",
    "#names=['northing','area','depth_max','depth_mean','depth_std','slope_mean','slope_std']\n",
    "fn='/Users/paulparis/Documents/Projects/csi/data/table/ETOPO1_1211m_069deg_1000rpts.csv'\n",
    "df=pandas.read_csv(fn, sep=',', header=1, names=['easting','northing','cat','depth'] )\n",
    "\n",
    "Z=df.as_matrix(columns=['depth'])\n",
    "X=df['easting']\n",
    "Y=df['northing']\n",
    "\n",
    "PlotDataSet3D(Z,X,Y)"
   ]
  },
  {
   "cell_type": "markdown",
   "metadata": {},
   "source": [
    "<h3>Kernel Density Plot</h3>"
   ]
  },
  {
   "cell_type": "code",
   "execution_count": 24,
   "metadata": {
    "collapsed": false
   },
   "outputs": [],
   "source": [
    "from sklearn.neighbors import KernelDensity\n",
    "\n",
    "kde = KernelDensity( kernel='gaussian', bandwidth=5.0)\n",
    "kde.fit(Z)\n",
    "\n",
    "# generate the plotting grid based on depth\n",
    "z_grid = np.linspace( 0, -1200, num=255)\n",
    "pdf = np.exp( kde.score_samples(z_grid[ :,np.newaxis]) )\n",
    "\n",
    "fignum = 2\n",
    "fig2 = plt.figure(fignum, figsize=(7,7))\n",
    "plt.clf()   # clear the figure\n",
    "\n",
    "axKDE = fig2.add_subplot(1,1,1)\n",
    "\n",
    "axKDE.plot(z_grid, pdf, color='blue', alpha=0.5, lw=1.5, label='KDE (1000 random obs.)')\n",
    "axKDE.hist(Z, 100, fc='gray', histtype='stepfilled', alpha=0.3, normed=True)\n",
    "major_ticks = np.arange(-1200, 0, 100)                                              \n",
    "axKDE.set_xticks(major_ticks)                                                       \n",
    "#axKDE.set_xticks(minor_ticks, minor=True)                                           \n",
    "#axKDE.set_yticks(major_ticks)                                                       \n",
    "#axKDE.set_yticks(minor_ticks, minor=True)                                           \n",
    "\n",
    "axKDE.set_xlabel('Depth (meters)')\n",
    "axKDE.set_ylabel('Probability Density')\n",
    "axKDE.set_title('Kernel Density Estimator (Gaussian, bw=5.0)')\n",
    "# and a corresponding grid                                                       \n",
    "\n",
    "axKDE.grid(which='both')       \n",
    "#plt.show()\n",
    "plt.savefig('/Users/paulparis/Dropbox/projects/csi/graphics/KDEplot_Fig4.pdf')"
   ]
  },
  {
   "cell_type": "code",
   "execution_count": 16,
   "metadata": {
    "collapsed": false
   },
   "outputs": [],
   "source": [
    "xticklabels=['90S','45S','0','45N','90N']   # 'converts' northings to latitude\n",
    "\n",
    "fig3=plt.figure(figsize=(10,7), dpi=100)\n",
    "axLat = fig3.add_subplot(1,1,1)\n",
    "\n",
    "axLat.plot(Y,Z,'o')\n",
    "    \n",
    "    #ax1.axhline(y=-167.0, xmin=0.025, xmax=0.975, linewidth=2.0, color='k')\n",
    "    #ax1.axhline(y=-421.0, xmin=0.025, xmax=0.975, linewidth=2.0, color='k')\n",
    "    #ax1.axhline(y=-743.0, xmin=0.025, xmax=0.975, linewidth=2.0, color='k')\n",
    "    \n",
    "plt.xticks([-10000000,-5000000,0,5000000,10000000], xticklabels)  # remap the northings to latitude\n",
    "axLat.set_xlabel('Latitude (degrees North and South)')\n",
    "axLat.set_ylabel('Depth (meters)')\n",
    "axLat.set_title('Sampled Water Depths by Latitude')\n",
    "\n",
    "\n",
    "#plt.show()\n",
    "plt.savefig(\"/Users/paulparis/Dropbox/projects/csi/graphics/depthbylat.pdf\")"
   ]
  }
 ],
 "metadata": {
  "anaconda-cloud": {},
  "kernelspec": {
   "display_name": "Python [default]",
   "language": "python",
   "name": "python3"
  },
  "language_info": {
   "codemirror_mode": {
    "name": "ipython",
    "version": 3
   },
   "file_extension": ".py",
   "mimetype": "text/x-python",
   "name": "python",
   "nbconvert_exporter": "python",
   "pygments_lexer": "ipython3",
   "version": "3.5.2"
  },
  "toc": {
   "nav_menu": {
    "height": "48px",
    "width": "252px"
   },
   "navigate_menu": true,
   "number_sections": true,
   "sideBar": true,
   "threshold": 4,
   "toc_cell": false,
   "toc_section_display": "block",
   "toc_window_display": false
  }
 },
 "nbformat": 4,
 "nbformat_minor": 0
}
