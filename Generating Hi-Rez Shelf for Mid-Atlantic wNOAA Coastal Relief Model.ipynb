{
 "cells": [
  {
   "cell_type": "markdown",
   "metadata": {},
   "source": [
    "<h2>Generating a higher resolution shelf for a portion of the American Eastern Seaboard using NOAA's 3 arc-second Coastal Relief Model:</h2>"
   ]
  },
  {
   "cell_type": "markdown",
   "metadata": {},
   "source": [
    "Downloaded v2 of the NCRM from here: https://www.ngdc.noaa.gov/mgg/coastal/grddas02/grddas02.htm\n",
    "as xyz triads.\n",
    "\n",
    "Vitals:\n",
    "S.E. Atlantic coverage: N to 48°; S to 24°; E from -65°; and W to -107°   EPSG::4269   (GCS on NAD83)\n",
    "\n",
    "NOAA's Coastal Relief Model (NCRM) resolution is 3 arc-seconds  (0.0008333°)"
   ]
  },
  {
   "cell_type": "markdown",
   "metadata": {},
   "source": [
    "<h3>Here's how to do it, step by step:</h3>"
   ]
  },
  {
   "cell_type": "markdown",
   "metadata": {},
   "source": [
    "<h3>Create new location and mapset in GRASS:</h3>"
   ]
  },
  {
   "cell_type": "code",
   "execution_count": null,
   "metadata": {
    "collapsed": true
   },
   "outputs": [],
   "source": [
    "location = N_America_GCS_EPSG4269\n",
    "mapset = user"
   ]
  },
  {
   "cell_type": "markdown",
   "metadata": {},
   "source": [
    "<h3>Extract the bathymetry (or the topography) from the coastal relief model topo-bathy point cloud [using sqlite]:</h3>\n",
    "This step is optional. \n",
    "\n",
    "Because the downloaded xyz file is 3.65 GB working with it as a whole could prove problematic. So, you can use the UNIX command line and the command 'split' to break the file into 14 10 million line, non-overlapping parts (NOTE: I ended up not using the split files approach...)\n",
    "\n",
    "**From the UNIX Command Line:**"
   ]
  },
  {
   "cell_type": "code",
   "execution_count": null,
   "metadata": {
    "collapsed": true
   },
   "outputs": [],
   "source": [
    "wc -l se_atl_crm_v1.xyz\n",
    "s 133302258 se_atl_crm_v1.xyz     133,302,258 lines\n",
    "\n",
    "Break file into about 14 files, each of 10 million lines with prefix: NRCM_v2_\n",
    "split  -l 10000000 se_atl_crm_v1.xyz NCRM_v2_"
   ]
  },
  {
   "cell_type": "markdown",
   "metadata": {},
   "source": [
    "<h3>Working with a bigger data file using SQLite:</h3>"
   ]
  },
  {
   "cell_type": "code",
   "execution_count": null,
   "metadata": {
    "collapsed": true
   },
   "outputs": [],
   "source": [
    "### Appealing the SQLite, load the se_atl_crm_v1.xyz to a table, then select elevation values <= 0 \n",
    "\n",
    "\n",
    "### To extract bathymetry only, and save to external file:\n",
    "\n",
    "bash# sqlite3 norm_v2.sqlite\n",
    "> create table tbl(x real, y real, z real);\n",
    "> .separator \" \"\n",
    "> .import se_atl_crm_v1.xyz tbl\n",
    "> .mode csv\n",
    "> .output NCRM_v2_bathy.csv\n",
    "> select * from tbl where z <= 0.0;\n",
    "> .quit\n",
    "\n",
    "### To extract a complementary topographic point cloud:\n",
    "\n",
    "bash# sqlite3 norm_v2.sqlite\n",
    "> create table tbl(x real, y real, z real);\n",
    "> .separator \" \"\n",
    "> .import se_atl_com_v1.xyz tbl\n",
    "> .mode csv\n",
    "> .output NCRM_v2_topo.csv\n",
    "> select * from tbl where z > 0\n",
    "> .quit"
   ]
  },
  {
   "cell_type": "markdown",
   "metadata": {},
   "source": [
    "<h3>Generate topo-bathy Digital Surface Model from the coastal relief model point cloud:</h3>"
   ]
  },
  {
   "cell_type": "markdown",
   "metadata": {},
   "source": [
    "**in GRASS, get the geographic extents of the data (you'll use this to create a suitable computational region for the resulting topo-bathy surface model):**"
   ]
  },
  {
   "cell_type": "code",
   "execution_count": null,
   "metadata": {
    "code_folding": [],
    "collapsed": true
   },
   "outputs": [],
   "source": [
    "### NOTE: use the -s flag with r.in.xyz to restrict command to finding extents only.\n",
    "\n",
    "r.in.xyz -s --overwrite input=/Users/paulp/shelves_data/se_atl/se_atl_crm_v1.xyz output=NCRM_NAmer_v2_xyz_3sec@user type=CELL separator=space\n",
    "\n",
    "###    x_min: -83       y_max: -68.0\n",
    "###    y_min: 30.0      y_max: 41.0\n",
    "###    z_min: -4369.2   z_max: 0.0"
   ]
  },
  {
   "cell_type": "markdown",
   "metadata": {},
   "source": [
    "**Set the computational region to encompass the v2 point cloud at 3 arc seconds- horizontal and 1-meter vertical):**"
   ]
  },
  {
   "cell_type": "code",
   "execution_count": null,
   "metadata": {
    "collapsed": true
   },
   "outputs": [],
   "source": [
    "g.region --overwrite n=41.0 s=30.0 e=-68.0 w=-83.0 res=0.000833333 tbres=1.0 save=NCRM_ENAmerica_V2_3sec"
   ]
  },
  {
   "cell_type": "markdown",
   "metadata": {},
   "source": [
    "**Import the NCRM point cloud to create a raster [point] surface:**"
   ]
  },
  {
   "cell_type": "code",
   "execution_count": null,
   "metadata": {
    "collapsed": true
   },
   "outputs": [],
   "source": [
    "r.in.xyz --overwrite input=/Users/paulp/shelves_data/se_atl/se_atl_crm_v1.xyz output=NCRM_NAmer_v2_xyz_3sec@user type=CELL separator=space percent=75"
   ]
  },
  {
   "cell_type": "markdown",
   "metadata": {},
   "source": [
    "**Create a mask around the raster points in NCRM_NAmer_v2_xyz_3sec  to restrict computations during the upcoming resampling/interpolation procs:**"
   ]
  },
  {
   "cell_type": "code",
   "execution_count": null,
   "metadata": {
    "collapsed": true
   },
   "outputs": [],
   "source": [
    "r.to.vect --overwrite input=NCRM_NAmer_v2_xyz_3sec@user output=NCRM_NAmer_v2_xyz type=point\n",
    "v.hull --overwrite input=NCRM_NAmer_v2_xyz@user output=NCRM_v2_xyz_chull\n",
    "v.to.rast --overwrite input=NCRM_v2_xyz_chull@user output=NCRM_NAmer_v2_msk_3sec@user use=cat"
   ]
  },
  {
   "cell_type": "markdown",
   "metadata": {},
   "source": [
    "**Resample and interpolate (using rst) w/o changing resolutions to craft the final topo-bathy DEM:**"
   ]
  },
  {
   "cell_type": "code",
   "execution_count": null,
   "metadata": {
    "collapsed": true
   },
   "outputs": [],
   "source": [
    "r.mask NCRM_NAmer_v2_msk_3sec\n",
    "r.resamp.rst --overwrite input=NCRM_NAmer_v2_xyz_3sec@user ew_res=0.0008333 ns_res=0.0008333 elevation=NCRM_NAmer_v2_topobathy_3sec\n",
    "\n",
    "r.mask -r"
   ]
  },
  {
   "cell_type": "markdown",
   "metadata": {},
   "source": [
    "** Extract the shelf-only bathymetry from the topobathy DSM (optional, but it might help):**\n",
    "\n",
    "Note: this works for extracting the topography, too. Just change the names, as appropriate."
   ]
  },
  {
   "cell_type": "code",
   "execution_count": null,
   "metadata": {
    "collapsed": true
   },
   "outputs": [],
   "source": [
    "r.mapcalc --o\n",
    "NCRM_NAmer_v2_shelfbathy_3sec = if(  (NCRM_NAmer_v2_topobathy_3sec < 0 ) && ( NCRM_NAmer_v2_topobathy_3sec  >= -1211 ), 1, null() )\n",
    "end"
   ]
  },
  {
   "cell_type": "markdown",
   "metadata": {},
   "source": [
    "<h3>Computing the geomorphon forms and ternary pattern layers and extract the shelf surface model:</h3>"
   ]
  },
  {
   "cell_type": "markdown",
   "metadata": {},
   "source": [
    "**Fit geomorphon types:**"
   ]
  },
  {
   "cell_type": "code",
   "execution_count": null,
   "metadata": {
    "collapsed": true
   },
   "outputs": [],
   "source": [
    "r.geomorphon --overwrite elevation=NCRM_NAmer_v2_topobathy_3sec forms=NCRM_NAmer_v2_forms_3sec ternary=NCRM_NAmer_v2_ternary_3sec search=5 skip=0 flat=0.69 dist=0 step=0 start=0"
   ]
  },
  {
   "cell_type": "markdown",
   "metadata": {},
   "source": [
    "**Extract a pre-shelf (where the geomorphon type and depth criteria, but not continuity, are applied to the topobathy data) layer:**"
   ]
  },
  {
   "cell_type": "code",
   "execution_count": null,
   "metadata": {
    "collapsed": true
   },
   "outputs": [],
   "source": [
    "r.mapcalc --o\n",
    "NCRM_NAmer_v2_preshelf_3sec=if( (NCRM_NAmer_v2_forms_3sec == 1) && (NCRM_NAmer_v2_topobathy_3sec <0.0 && NCRM_NAmer_v2_topobathy_3sec >=-1211), 1, null() )\n",
    "end"
   ]
  },
  {
   "cell_type": "markdown",
   "metadata": {},
   "source": [
    "**Create a pre shelf bathy layer from the just-created preshelf form layer:**"
   ]
  },
  {
   "cell_type": "code",
   "execution_count": null,
   "metadata": {
    "collapsed": true
   },
   "outputs": [],
   "source": [
    "r.mapcalc --o\n",
    "NCRM_NAmer_v2_preshelfbathy_3sec = if( NCRM_NAmer_v2_preshelf_3sec == 1, NCRM_NAmer_v2_topobathy_3sec, null() )\n",
    "end"
   ]
  },
  {
   "cell_type": "markdown",
   "metadata": {},
   "source": [
    "**Create a topography only layer from the NCRM topobathy data:**"
   ]
  },
  {
   "cell_type": "code",
   "execution_count": null,
   "metadata": {
    "collapsed": true
   },
   "outputs": [],
   "source": [
    "r.mapcalc --o\n",
    "NCRM_NAmer_v2_topo_3sec = if( NCRM_NAmer_v2_topobathy_3sec >= 0.0, NCRM_NAmer_v2_topobathy_3sec, null() )\n",
    "end"
   ]
  },
  {
   "cell_type": "markdown",
   "metadata": {},
   "source": [
    "**Use r.lake to apply the final (continuity) criterion to create the final shelf layer:**"
   ]
  },
  {
   "cell_type": "code",
   "execution_count": null,
   "metadata": {
    "collapsed": true
   },
   "outputs": [],
   "source": [
    "r.lake --overwrite elevation=NCRM_NAmer_v2_preshelf_3sec@user water_level=2.0 lake=NCRM_NAmer_v2_shelf_3sec@user seed=NCRM_NAmer_v2_topo_3sec@user"
   ]
  },
  {
   "cell_type": "markdown",
   "metadata": {},
   "source": [
    "**Congratulations. You now have a continental, or insular, shelf!**"
   ]
  }
 ],
 "metadata": {
  "anaconda-cloud": {},
  "kernelspec": {
   "display_name": "Python [default]",
   "language": "python",
   "name": "python3"
  },
  "toc": {
   "nav_menu": {
    "height": "153px",
    "width": "252px"
   },
   "navigate_menu": true,
   "number_sections": true,
   "sideBar": true,
   "threshold": 4,
   "toc_cell": false,
   "toc_section_display": "block",
   "toc_window_display": false
  }
 },
 "nbformat": 4,
 "nbformat_minor": 1
}
